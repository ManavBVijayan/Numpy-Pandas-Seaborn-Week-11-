{
 "cells": [
  {
   "cell_type": "code",
   "execution_count": 1,
   "id": "70bab1e5-1b6a-47fb-91a0-cce09cc7fff4",
   "metadata": {},
   "outputs": [],
   "source": [
    "import pandas as pd\n",
    "import numpy as np"
   ]
  },
  {
   "cell_type": "code",
   "execution_count": 2,
   "id": "5ddd9d91-9ca4-4dea-bdc7-1e7380bafe27",
   "metadata": {},
   "outputs": [],
   "source": [
    "data=pd.read_csv(\"titanic_train.csv\")"
   ]
  },
  {
   "cell_type": "code",
   "execution_count": 3,
   "id": "b741c0bf-e005-47ab-8fea-14c6329d5128",
   "metadata": {},
   "outputs": [
    {
     "data": {
      "text/html": [
       "<div>\n",
       "<style scoped>\n",
       "    .dataframe tbody tr th:only-of-type {\n",
       "        vertical-align: middle;\n",
       "    }\n",
       "\n",
       "    .dataframe tbody tr th {\n",
       "        vertical-align: top;\n",
       "    }\n",
       "\n",
       "    .dataframe thead th {\n",
       "        text-align: right;\n",
       "    }\n",
       "</style>\n",
       "<table border=\"1\" class=\"dataframe\">\n",
       "  <thead>\n",
       "    <tr style=\"text-align: right;\">\n",
       "      <th></th>\n",
       "      <th>PassengerId</th>\n",
       "      <th>Survived</th>\n",
       "      <th>Pclass</th>\n",
       "      <th>Name</th>\n",
       "      <th>Sex</th>\n",
       "      <th>Age</th>\n",
       "      <th>SibSp</th>\n",
       "      <th>Parch</th>\n",
       "      <th>Ticket</th>\n",
       "      <th>Fare</th>\n",
       "      <th>Cabin</th>\n",
       "      <th>Embarked</th>\n",
       "    </tr>\n",
       "  </thead>\n",
       "  <tbody>\n",
       "    <tr>\n",
       "      <th>0</th>\n",
       "      <td>1</td>\n",
       "      <td>0</td>\n",
       "      <td>3</td>\n",
       "      <td>Braund, Mr. Owen Harris</td>\n",
       "      <td>male</td>\n",
       "      <td>22.0</td>\n",
       "      <td>1</td>\n",
       "      <td>0</td>\n",
       "      <td>A/5 21171</td>\n",
       "      <td>7.2500</td>\n",
       "      <td>NaN</td>\n",
       "      <td>S</td>\n",
       "    </tr>\n",
       "    <tr>\n",
       "      <th>1</th>\n",
       "      <td>2</td>\n",
       "      <td>1</td>\n",
       "      <td>1</td>\n",
       "      <td>Cumings, Mrs. John Bradley (Florence Briggs Th...</td>\n",
       "      <td>female</td>\n",
       "      <td>38.0</td>\n",
       "      <td>1</td>\n",
       "      <td>0</td>\n",
       "      <td>PC 17599</td>\n",
       "      <td>71.2833</td>\n",
       "      <td>C85</td>\n",
       "      <td>C</td>\n",
       "    </tr>\n",
       "    <tr>\n",
       "      <th>2</th>\n",
       "      <td>3</td>\n",
       "      <td>1</td>\n",
       "      <td>3</td>\n",
       "      <td>Heikkinen, Miss. Laina</td>\n",
       "      <td>female</td>\n",
       "      <td>26.0</td>\n",
       "      <td>0</td>\n",
       "      <td>0</td>\n",
       "      <td>STON/O2. 3101282</td>\n",
       "      <td>7.9250</td>\n",
       "      <td>NaN</td>\n",
       "      <td>S</td>\n",
       "    </tr>\n",
       "    <tr>\n",
       "      <th>3</th>\n",
       "      <td>4</td>\n",
       "      <td>1</td>\n",
       "      <td>1</td>\n",
       "      <td>Futrelle, Mrs. Jacques Heath (Lily May Peel)</td>\n",
       "      <td>female</td>\n",
       "      <td>35.0</td>\n",
       "      <td>1</td>\n",
       "      <td>0</td>\n",
       "      <td>113803</td>\n",
       "      <td>53.1000</td>\n",
       "      <td>C123</td>\n",
       "      <td>S</td>\n",
       "    </tr>\n",
       "    <tr>\n",
       "      <th>4</th>\n",
       "      <td>5</td>\n",
       "      <td>0</td>\n",
       "      <td>3</td>\n",
       "      <td>Allen, Mr. William Henry</td>\n",
       "      <td>male</td>\n",
       "      <td>35.0</td>\n",
       "      <td>0</td>\n",
       "      <td>0</td>\n",
       "      <td>373450</td>\n",
       "      <td>8.0500</td>\n",
       "      <td>NaN</td>\n",
       "      <td>S</td>\n",
       "    </tr>\n",
       "    <tr>\n",
       "      <th>...</th>\n",
       "      <td>...</td>\n",
       "      <td>...</td>\n",
       "      <td>...</td>\n",
       "      <td>...</td>\n",
       "      <td>...</td>\n",
       "      <td>...</td>\n",
       "      <td>...</td>\n",
       "      <td>...</td>\n",
       "      <td>...</td>\n",
       "      <td>...</td>\n",
       "      <td>...</td>\n",
       "      <td>...</td>\n",
       "    </tr>\n",
       "    <tr>\n",
       "      <th>886</th>\n",
       "      <td>887</td>\n",
       "      <td>0</td>\n",
       "      <td>2</td>\n",
       "      <td>Montvila, Rev. Juozas</td>\n",
       "      <td>male</td>\n",
       "      <td>27.0</td>\n",
       "      <td>0</td>\n",
       "      <td>0</td>\n",
       "      <td>211536</td>\n",
       "      <td>13.0000</td>\n",
       "      <td>NaN</td>\n",
       "      <td>S</td>\n",
       "    </tr>\n",
       "    <tr>\n",
       "      <th>887</th>\n",
       "      <td>888</td>\n",
       "      <td>1</td>\n",
       "      <td>1</td>\n",
       "      <td>Graham, Miss. Margaret Edith</td>\n",
       "      <td>female</td>\n",
       "      <td>19.0</td>\n",
       "      <td>0</td>\n",
       "      <td>0</td>\n",
       "      <td>112053</td>\n",
       "      <td>30.0000</td>\n",
       "      <td>B42</td>\n",
       "      <td>S</td>\n",
       "    </tr>\n",
       "    <tr>\n",
       "      <th>888</th>\n",
       "      <td>889</td>\n",
       "      <td>0</td>\n",
       "      <td>3</td>\n",
       "      <td>Johnston, Miss. Catherine Helen \"Carrie\"</td>\n",
       "      <td>female</td>\n",
       "      <td>NaN</td>\n",
       "      <td>1</td>\n",
       "      <td>2</td>\n",
       "      <td>W./C. 6607</td>\n",
       "      <td>23.4500</td>\n",
       "      <td>NaN</td>\n",
       "      <td>S</td>\n",
       "    </tr>\n",
       "    <tr>\n",
       "      <th>889</th>\n",
       "      <td>890</td>\n",
       "      <td>1</td>\n",
       "      <td>1</td>\n",
       "      <td>Behr, Mr. Karl Howell</td>\n",
       "      <td>male</td>\n",
       "      <td>26.0</td>\n",
       "      <td>0</td>\n",
       "      <td>0</td>\n",
       "      <td>111369</td>\n",
       "      <td>30.0000</td>\n",
       "      <td>C148</td>\n",
       "      <td>C</td>\n",
       "    </tr>\n",
       "    <tr>\n",
       "      <th>890</th>\n",
       "      <td>891</td>\n",
       "      <td>0</td>\n",
       "      <td>3</td>\n",
       "      <td>Dooley, Mr. Patrick</td>\n",
       "      <td>male</td>\n",
       "      <td>32.0</td>\n",
       "      <td>0</td>\n",
       "      <td>0</td>\n",
       "      <td>370376</td>\n",
       "      <td>7.7500</td>\n",
       "      <td>NaN</td>\n",
       "      <td>Q</td>\n",
       "    </tr>\n",
       "  </tbody>\n",
       "</table>\n",
       "<p>891 rows × 12 columns</p>\n",
       "</div>"
      ],
      "text/plain": [
       "     PassengerId  Survived  Pclass  \\\n",
       "0              1         0       3   \n",
       "1              2         1       1   \n",
       "2              3         1       3   \n",
       "3              4         1       1   \n",
       "4              5         0       3   \n",
       "..           ...       ...     ...   \n",
       "886          887         0       2   \n",
       "887          888         1       1   \n",
       "888          889         0       3   \n",
       "889          890         1       1   \n",
       "890          891         0       3   \n",
       "\n",
       "                                                  Name     Sex   Age  SibSp  \\\n",
       "0                              Braund, Mr. Owen Harris    male  22.0      1   \n",
       "1    Cumings, Mrs. John Bradley (Florence Briggs Th...  female  38.0      1   \n",
       "2                               Heikkinen, Miss. Laina  female  26.0      0   \n",
       "3         Futrelle, Mrs. Jacques Heath (Lily May Peel)  female  35.0      1   \n",
       "4                             Allen, Mr. William Henry    male  35.0      0   \n",
       "..                                                 ...     ...   ...    ...   \n",
       "886                              Montvila, Rev. Juozas    male  27.0      0   \n",
       "887                       Graham, Miss. Margaret Edith  female  19.0      0   \n",
       "888           Johnston, Miss. Catherine Helen \"Carrie\"  female   NaN      1   \n",
       "889                              Behr, Mr. Karl Howell    male  26.0      0   \n",
       "890                                Dooley, Mr. Patrick    male  32.0      0   \n",
       "\n",
       "     Parch            Ticket     Fare Cabin Embarked  \n",
       "0        0         A/5 21171   7.2500   NaN        S  \n",
       "1        0          PC 17599  71.2833   C85        C  \n",
       "2        0  STON/O2. 3101282   7.9250   NaN        S  \n",
       "3        0            113803  53.1000  C123        S  \n",
       "4        0            373450   8.0500   NaN        S  \n",
       "..     ...               ...      ...   ...      ...  \n",
       "886      0            211536  13.0000   NaN        S  \n",
       "887      0            112053  30.0000   B42        S  \n",
       "888      2        W./C. 6607  23.4500   NaN        S  \n",
       "889      0            111369  30.0000  C148        C  \n",
       "890      0            370376   7.7500   NaN        Q  \n",
       "\n",
       "[891 rows x 12 columns]"
      ]
     },
     "execution_count": 3,
     "metadata": {},
     "output_type": "execute_result"
    }
   ],
   "source": [
    "data"
   ]
  },
  {
   "cell_type": "code",
   "execution_count": 9,
   "id": "3f321928-3124-4c30-bf6d-4639e455cda9",
   "metadata": {},
   "outputs": [],
   "source": [
    "x=np.random.rand(10,10)"
   ]
  },
  {
   "cell_type": "code",
   "execution_count": 10,
   "id": "eb8746f3-bf7a-4b44-8e93-cf49cb04c53a",
   "metadata": {},
   "outputs": [
    {
     "data": {
      "text/plain": [
       "array([[0.9009905 , 0.78071527, 0.45920725, 0.10020521, 0.94859191,\n",
       "        0.39607031, 0.00812651, 0.41885109, 0.44543188, 0.38769129],\n",
       "       [0.89789112, 0.0441529 , 0.1340949 , 0.68348724, 0.83838318,\n",
       "        0.18804245, 0.89079968, 0.16618159, 0.14692815, 0.93867619],\n",
       "       [0.58403983, 0.03462163, 0.51155738, 0.93125044, 0.00581132,\n",
       "        0.21118064, 0.41235753, 0.02141007, 0.84175309, 0.69286824],\n",
       "       [0.71639114, 0.88884026, 0.81389044, 0.79528662, 0.28244389,\n",
       "        0.56581511, 0.54629421, 0.61178374, 0.35312297, 0.20206642],\n",
       "       [0.4506147 , 0.32283172, 0.84241687, 0.46009527, 0.07402587,\n",
       "        0.25978743, 0.31575159, 0.63566378, 0.70574575, 0.75233064],\n",
       "       [0.54791033, 0.21797005, 0.71755938, 0.51450125, 0.85988979,\n",
       "        0.77863536, 0.90867021, 0.69573088, 0.24878786, 0.44687434],\n",
       "       [0.85113524, 0.75819952, 0.8841991 , 0.38245625, 0.77871253,\n",
       "        0.39771283, 0.04612131, 0.2495903 , 0.60046545, 0.84587859],\n",
       "       [0.05838037, 0.341666  , 0.04362071, 0.7957509 , 0.72925652,\n",
       "        0.84235019, 0.28760329, 0.80136203, 0.47203381, 0.9390543 ],\n",
       "       [0.89382393, 0.50228862, 0.65751062, 0.50876774, 0.14954012,\n",
       "        0.86499089, 0.78478679, 0.31505387, 0.240887  , 0.98516626],\n",
       "       [0.68691029, 0.24028229, 0.43596385, 0.23066957, 0.45496698,\n",
       "        0.09159202, 0.45194398, 0.9769008 , 0.8150495 , 0.05378834]])"
      ]
     },
     "execution_count": 10,
     "metadata": {},
     "output_type": "execute_result"
    }
   ],
   "source": [
    "x"
   ]
  },
  {
   "cell_type": "code",
   "execution_count": 11,
   "id": "5a399194-5a5e-4f8f-9078-0fb3447394fe",
   "metadata": {},
   "outputs": [
    {
     "name": "stdout",
     "output_type": "stream",
     "text": [
      "[ 0.06762913 -0.48246242 -0.08027476 -0.14634016 -0.77828312 -0.5298146\n",
      " -0.35114455 -0.35618068 -0.33195941 -0.36699755] [1.37246533 1.40023233 1.31185714 1.31554293 1.7845147  1.47857724\n",
      " 1.37094857 1.30285098 1.28625673 1.6849614 ]\n"
     ]
    }
   ],
   "source": [
    "def outliers(data):\n",
    "    q1=np.percentile(data,25,axis=0)\n",
    "    q3=np.percentile(data,75,axis=0)\n",
    "    iqr=q3-q1\n",
    "    lower_bound=q1-1.5*iqr\n",
    "    uper_bound=q3+1.5*iqr\n",
    "    print(lower_bound,uper_bound)\n",
    "    return lower_bound,uper_bound\n",
    "r=outliers(x)\n"
   ]
  },
  {
   "cell_type": "code",
   "execution_count": 13,
   "id": "63e7494d-bc9a-4e73-a74a-45a9116dd642",
   "metadata": {},
   "outputs": [],
   "source": [
    "x=np.random.rand(300,2)*10"
   ]
  },
  {
   "cell_type": "code",
   "execution_count": 14,
   "id": "419899c5-dc07-46dc-98fb-64750cc67635",
   "metadata": {},
   "outputs": [],
   "source": [
    "from sklearn.cluster import KMeans"
   ]
  },
  {
   "cell_type": "code",
   "execution_count": 16,
   "id": "4c946265-626b-4e5a-b413-16676d6a0447",
   "metadata": {},
   "outputs": [],
   "source": [
    "inertia=[]\n",
    "for k in range(1,15):\n",
    "    kmeans=KMeans(n_clusters=k,n_init=10)\n",
    "    kmeans.fit(x)\n",
    "    inertia.append(kmeans.inertia_)"
   ]
  },
  {
   "cell_type": "code",
   "execution_count": 17,
   "id": "52a568ae-d561-4f90-9176-10086cf5e3d5",
   "metadata": {},
   "outputs": [],
   "source": [
    "import matplotlib.pyplot as plt"
   ]
  },
  {
   "cell_type": "code",
   "execution_count": 18,
   "id": "ff2d0a0f-c485-4258-a40b-4c39726d2b6d",
   "metadata": {},
   "outputs": [
    {
     "data": {
      "text/plain": [
       "[<matplotlib.lines.Line2D at 0x224d5accca0>]"
      ]
     },
     "execution_count": 18,
     "metadata": {},
     "output_type": "execute_result"
    },
    {
     "data": {
      "image/png": "[encoded data removed]",
      "text/plain": [
       "<Figure size 1000x800 with 1 Axes>"
      ]
     },
     "metadata": {},
     "output_type": "display_data"
    }
   ],
   "source": [
    "plt.figure(figsize=(10,8))\n",
    "plt.plot(range(1,15),inertia)"
   ]
  },
  {
   "cell_type": "code",
   "execution_count": 19,
   "id": "621707f4-814e-4d66-88eb-8e448a623985",
   "metadata": {},
   "outputs": [],
   "source": [
    "kmeans=KMeans(n_clusters=4,n_init=10)"
   ]
  },
  {
   "cell_type": "code",
   "execution_count": 20,
   "id": "4b1004c6-4778-4e28-b5c5-ab3a19dccfa0",
   "metadata": {},
   "outputs": [
    {
     "data": {
      "text/plain": [
       "array([1, 2, 2, 0, 1, 2, 1, 2, 3, 0, 2, 1, 3, 3, 0, 1, 1, 1, 2, 3, 0, 1,\n",
       "       3, 0, 3, 0, 3, 0, 3, 3, 3, 1, 1, 1, 3, 3, 1, 3, 3, 0, 3, 3, 0, 3,\n",
       "       1, 1, 2, 3, 2, 0, 1, 1, 0, 0, 3, 2, 3, 0, 1, 1, 2, 1, 1, 2, 1, 3,\n",
       "       0, 2, 1, 3, 2, 0, 3, 3, 0, 3, 3, 3, 1, 1, 3, 2, 1, 1, 0, 1, 0, 0,\n",
       "       1, 0, 3, 0, 2, 0, 0, 3, 1, 1, 1, 0, 1, 2, 0, 0, 1, 0, 2, 0, 2, 2,\n",
       "       0, 3, 2, 3, 2, 3, 2, 1, 3, 3, 3, 1, 3, 2, 0, 3, 3, 3, 0, 3, 1, 1,\n",
       "       0, 3, 1, 1, 1, 3, 0, 2, 0, 3, 0, 1, 3, 1, 3, 2, 1, 0, 3, 3, 2, 0,\n",
       "       1, 2, 2, 2, 0, 2, 1, 3, 1, 0, 1, 0, 0, 3, 0, 2, 0, 3, 3, 3, 2, 3,\n",
       "       2, 0, 2, 2, 1, 3, 1, 1, 1, 1, 1, 1, 2, 1, 3, 3, 1, 3, 2, 2, 0, 1,\n",
       "       1, 1, 0, 3, 1, 0, 0, 1, 3, 2, 1, 2, 1, 0, 1, 1, 3, 3, 2, 1, 2, 3,\n",
       "       1, 2, 2, 2, 2, 0, 3, 2, 1, 0, 1, 1, 1, 1, 2, 1, 2, 3, 1, 3, 1, 1,\n",
       "       0, 0, 0, 3, 1, 3, 0, 1, 3, 0, 2, 0, 1, 1, 2, 1, 2, 3, 1, 2, 1, 1,\n",
       "       1, 0, 1, 1, 3, 1, 2, 0, 3, 1, 2, 1, 2, 3, 2, 1, 0, 1, 3, 0, 0, 1,\n",
       "       2, 1, 1, 0, 2, 2, 3, 0, 1, 3, 2, 3, 3, 2])"
      ]
     },
     "execution_count": 20,
     "metadata": {},
     "output_type": "execute_result"
    }
   ],
   "source": [
    "kmeans.fit_predict(x)"
   ]
  }
 ],
 "metadata": {
  "kernelspec": {
   "display_name": "Python 3 (ipykernel)",
   "language": "python",
   "name": "python3"
  },
  "language_info": {
   "codemirror_mode": {
    "name": "ipython",
    "version": 3
   },
   "file_extension": ".py",
   "mimetype": "text/x-python",
   "name": "python",
   "nbconvert_exporter": "python",
   "pygments_lexer": "ipython3",
   "version": "3.10.9"
  }
 },
 "nbformat": 4,
 "nbformat_minor": 5
}
