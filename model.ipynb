{
 "cells": [
  {
   "cell_type": "code",
   "execution_count": 1,
   "id": "fa2efd9c-c774-4066-841d-d7bec201f2f6",
   "metadata": {},
   "outputs": [],
   "source": [
    "import numpy as np"
   ]
  },
  {
   "cell_type": "code",
   "execution_count": 2,
   "id": "3c743358-f64b-4d38-8332-c17f27d0afb6",
   "metadata": {},
   "outputs": [
    {
     "data": {
      "text/plain": [
       "array([[ 1.32461683,  0.32432792,  0.16390564, ..., -0.43709715,\n",
       "         0.99846085, -0.33597651],\n",
       "       [-1.15626294,  0.9098565 ,  1.56022415, ...,  0.37017646,\n",
       "         0.17877018,  0.11154062],\n",
       "       [-1.52571372,  0.83997686, -0.07311835, ...,  0.77798053,\n",
       "         0.84711951, -1.10601518],\n",
       "       ...,\n",
       "       [ 0.01981536,  0.23642346, -1.29634681, ...,  0.67601206,\n",
       "        -0.03047988, -0.03349829],\n",
       "       [ 0.00894426, -1.84504642,  2.07740748, ...,  0.35068535,\n",
       "         0.75960073, -0.02924113],\n",
       "       [-0.08089878, -1.56192688, -0.46597793, ..., -0.17881811,\n",
       "        -1.1740741 ,  0.6350073 ]])"
      ]
     },
     "execution_count": 2,
     "metadata": {},
     "output_type": "execute_result"
    }
   ],
   "source": [
    "x=np.random.randn(1000,10)\n",
    "x"
   ]
  },
  {
   "cell_type": "code",
   "execution_count": 3,
   "id": "c77c533f-ff20-4220-ae6a-f7b49c0460b9",
   "metadata": {},
   "outputs": [
    {
     "data": {
      "text/plain": [
       "(1000, 10)"
      ]
     },
     "execution_count": 3,
     "metadata": {},
     "output_type": "execute_result"
    }
   ],
   "source": [
    "x.shape"
   ]
  },
  {
   "cell_type": "code",
   "execution_count": 4,
   "id": "c4ab4e6c-abf2-43cf-b649-81b57352d244",
   "metadata": {},
   "outputs": [
    {
     "name": "stdout",
     "output_type": "stream",
     "text": [
      "Number of outliers for each feature:\n",
      "[10  3 10 10  5  5  2  9  7  8]\n"
     ]
    }
   ],
   "source": [
    "def detect_outliers(data):\n",
    "    Q1 = np.percentile(data, 25, axis=0)\n",
    "    Q3 = np.percentile(data, 75, axis=0)\n",
    "    IQR = Q3 - Q1\n",
    "    lower_bound = Q1 - 1.5 * IQR\n",
    "    upper_bound = Q3 + 1.5 * IQR\n",
    "    outliers = (data < lower_bound) | (data > upper_bound)\n",
    "    return outliers\n",
    "outliers = detect_outliers(x)\n",
    "num_outliers = np.sum(outliers, axis=0)\n",
    "print(\"Number of outliers for each feature:\")\n",
    "print(num_outliers)"
   ]
  },
  {
   "cell_type": "code",
   "execution_count": 5,
   "id": "1b0cb9fc-f04d-47c6-981f-efdfcbe96586",
   "metadata": {},
   "outputs": [
    {
     "name": "stdout",
     "output_type": "stream",
     "text": [
      "69\n"
     ]
    }
   ],
   "source": [
    "count=0\n",
    "for i in range(len(outliers)):\n",
    "    for j in range(len(outliers[i])):\n",
    "        if outliers[i][j]==True:\n",
    "            count=count+1\n",
    "print(count)"
   ]
  },
  {
   "cell_type": "code",
   "execution_count": 6,
   "id": "b64c2bd7-8407-48a7-8292-861c2613c8a5",
   "metadata": {},
   "outputs": [],
   "source": [
    "def handle_outliers(data):\n",
    "    for i in range(data.shape[1]):\n",
    "        column = data[:, i]\n",
    "        Q1 = np.percentile(column, 25)\n",
    "        Q3 = np.percentile(column, 75)\n",
    "        IQR = Q3 - Q1\n",
    "        lower_limit = Q1 - 1.5 * IQR\n",
    "        upper_limit = Q3 + 1.5 * IQR\n",
    "        # Cap values outside the lower and upper limits\n",
    "        column[column < lower_limit] = lower_limit\n",
    "        column[column > upper_limit] = upper_limit\n",
    "        data[:, i] = column\n",
    "    return data\n",
    "\n",
    "# Handle outliers in the dataset\n",
    "x_handled_outliers = handle_outliers(x)"
   ]
  },
  {
   "cell_type": "code",
   "execution_count": 7,
   "id": "9d75f27f-e515-4975-aed4-c8c600526513",
   "metadata": {},
   "outputs": [],
   "source": [
    "x=x_handled_outliers"
   ]
  },
  {
   "cell_type": "code",
   "execution_count": 8,
   "id": "15e7c7e2-04fe-4faa-8e91-e75e052a054d",
   "metadata": {},
   "outputs": [
    {
     "name": "stdout",
     "output_type": "stream",
     "text": [
      "Number of outliers for each feature:\n",
      "[0 0 0 0 0 0 0 0 0 0]\n"
     ]
    }
   ],
   "source": [
    "def detect_outliers(data):\n",
    "    Q1 = np.percentile(data, 25, axis=0)\n",
    "    Q3 = np.percentile(data, 75, axis=0)\n",
    "    IQR = Q3 - Q1\n",
    "    lower_bound = Q1 - 1.5 * IQR\n",
    "    upper_bound = Q3 + 1.5 * IQR\n",
    "    outliers = (data < lower_bound) | (data > upper_bound)\n",
    "    return outliers\n",
    "\n",
    "# Detect outliers in the dataset\n",
    "outliers = detect_outliers(x)\n",
    "\n",
    "# Count the number of outliers for each feature\n",
    "num_outliers = np.sum(outliers, axis=0)\n",
    "\n",
    "# Print the number of outliers for each feature\n",
    "print(\"Number of outliers for each feature:\")\n",
    "print(num_outliers)"
   ]
  },
  {
   "cell_type": "code",
   "execution_count": 9,
   "id": "c0b89ac0-5501-4fc3-aac9-93f94bb046de",
   "metadata": {},
   "outputs": [
    {
     "data": {
      "text/plain": [
       "array([0, 1, 0, 1, 0, 0, 1, 0, 0, 0, 0, 1, 0, 1, 1, 1, 1, 1, 1, 0, 0, 0,\n",
       "       0, 1, 1, 0, 0, 0, 1, 0, 1, 1, 0, 1, 1, 1, 1, 0, 0, 0, 1, 1, 0, 0,\n",
       "       1, 0, 0, 1, 1, 0, 1, 1, 0, 1, 0, 1, 0, 1, 0, 1, 0, 0, 0, 1, 1, 0,\n",
       "       0, 0, 0, 0, 1, 1, 0, 1, 0, 1, 1, 0, 0, 1, 0, 1, 0, 1, 0, 1, 1, 0,\n",
       "       0, 0, 1, 1, 1, 1, 0, 1, 1, 1, 0, 1, 1, 1, 0, 0, 1, 1, 1, 1, 0, 1,\n",
       "       0, 0, 1, 1, 1, 0, 1, 0, 0, 1, 1, 0, 0, 1, 1, 0, 0, 0, 1, 0, 1, 1,\n",
       "       1, 1, 1, 0, 0, 0, 1, 0, 0, 0, 0, 1, 0, 0, 0, 1, 0, 1, 0, 0, 1, 1,\n",
       "       0, 1, 0, 1, 1, 0, 1, 0, 0, 1, 0, 1, 0, 0, 1, 0, 1, 1, 1, 1, 1, 0,\n",
       "       1, 0, 1, 1, 0, 0, 0, 1, 1, 0, 1, 1, 0, 1, 0, 0, 1, 1, 1, 0, 0, 1,\n",
       "       1, 0, 1, 1, 1, 0, 0, 1, 1, 1, 0, 1, 1, 0, 0, 0, 0, 1, 0, 1, 0, 1,\n",
       "       1, 0, 1, 0, 0, 0, 0, 0, 1, 1, 1, 0, 0, 1, 1, 1, 1, 0, 1, 0, 0, 0,\n",
       "       0, 0, 1, 0, 1, 1, 0, 0, 1, 0, 1, 1, 0, 0, 1, 1, 0, 0, 0, 1, 1, 1,\n",
       "       0, 0, 0, 0, 1, 1, 1, 1, 0, 1, 0, 1, 1, 1, 1, 1, 1, 1, 1, 1, 0, 1,\n",
       "       1, 0, 0, 0, 1, 1, 0, 0, 1, 1, 0, 1, 1, 1, 0, 1, 1, 0, 1, 1, 0, 0,\n",
       "       1, 1, 1, 1, 0, 1, 0, 1, 0, 1, 1, 0, 1, 0, 0, 0, 1, 0, 0, 0, 1, 1,\n",
       "       0, 1, 1, 0, 1, 0, 1, 0, 1, 0, 1, 0, 0, 1, 1, 0, 1, 0, 0, 0, 0, 1,\n",
       "       1, 0, 0, 1, 1, 1, 0, 0, 0, 1, 0, 1, 1, 0, 0, 1, 0, 0, 1, 0, 1, 1,\n",
       "       1, 1, 0, 0, 0, 0, 0, 1, 0, 1, 1, 0, 1, 0, 1, 0, 0, 1, 1, 0, 1, 1,\n",
       "       0, 0, 1, 1, 1, 0, 0, 0, 1, 1, 0, 0, 1, 1, 0, 0, 1, 1, 0, 1, 0, 1,\n",
       "       0, 0, 1, 1, 0, 0, 1, 0, 1, 1, 1, 1, 0, 1, 1, 1, 0, 1, 1, 1, 0, 1,\n",
       "       0, 0, 0, 1, 0, 1, 1, 0, 0, 0, 1, 0, 1, 1, 0, 0, 1, 1, 0, 1, 1, 0,\n",
       "       0, 1, 0, 1, 0, 0, 1, 0, 0, 1, 0, 1, 0, 0, 1, 1, 0, 0, 0, 0, 1, 0,\n",
       "       1, 0, 1, 0, 0, 1, 1, 1, 1, 1, 0, 0, 1, 1, 0, 0, 1, 1, 1, 1, 1, 0,\n",
       "       1, 1, 1, 0, 1, 1, 1, 0, 0, 0, 0, 1, 0, 1, 0, 1, 0, 1, 0, 1, 0, 1,\n",
       "       1, 0, 0, 1, 0, 1, 1, 1, 1, 1, 1, 0, 1, 0, 0, 1, 0, 0, 1, 1, 1, 0,\n",
       "       1, 0, 1, 0, 0, 0, 1, 1, 1, 0, 1, 0, 0, 1, 0, 1, 0, 0, 0, 1, 0, 1,\n",
       "       0, 1, 1, 0, 0, 0, 1, 0, 1, 1, 0, 1, 1, 0, 1, 0, 0, 1, 1, 0, 0, 1,\n",
       "       1, 0, 1, 0, 0, 0, 0, 0, 0, 0, 0, 0, 1, 0, 0, 0, 0, 0, 1, 0, 1, 0,\n",
       "       0, 1, 0, 0, 1, 0, 1, 1, 0, 1, 0, 0, 1, 1, 1, 0, 0, 0, 1, 1, 1, 0,\n",
       "       1, 0, 0, 1, 1, 0, 1, 1, 0, 1, 1, 0, 1, 0, 1, 1, 0, 0, 1, 1, 0, 1,\n",
       "       1, 0, 0, 0, 1, 1, 0, 0, 1, 1, 1, 0, 1, 1, 0, 1, 0, 0, 1, 1, 1, 0,\n",
       "       1, 1, 1, 1, 1, 1, 1, 1, 0, 1, 1, 1, 1, 1, 0, 0, 1, 1, 0, 0, 1, 1,\n",
       "       0, 1, 1, 0, 1, 1, 0, 0, 0, 0, 0, 0, 0, 0, 1, 0, 1, 1, 0, 0, 1, 1,\n",
       "       1, 0, 1, 1, 1, 1, 1, 1, 0, 1, 1, 1, 1, 1, 0, 1, 1, 1, 1, 1, 1, 1,\n",
       "       0, 0, 0, 1, 1, 1, 0, 1, 1, 0, 0, 1, 0, 1, 0, 0, 1, 1, 1, 1, 0, 0,\n",
       "       0, 0, 1, 1, 1, 0, 0, 1, 1, 0, 0, 1, 1, 1, 1, 1, 0, 0, 0, 1, 1, 1,\n",
       "       0, 1, 1, 1, 0, 0, 1, 1, 0, 1, 1, 0, 1, 0, 1, 0, 1, 0, 0, 1, 0, 1,\n",
       "       0, 1, 1, 1, 0, 0, 1, 0, 1, 0, 0, 1, 0, 1, 0, 0, 1, 0, 1, 0, 1, 1,\n",
       "       1, 0, 0, 0, 0, 0, 1, 1, 0, 0, 0, 0, 0, 0, 1, 0, 1, 0, 0, 0, 0, 1,\n",
       "       1, 0, 0, 1, 0, 0, 0, 1, 1, 1, 0, 0, 0, 1, 1, 0, 0, 0, 0, 0, 1, 1,\n",
       "       1, 1, 1, 0, 0, 0, 0, 1, 1, 1, 1, 1, 0, 0, 1, 1, 0, 0, 1, 1, 1, 0,\n",
       "       1, 0, 1, 1, 0, 1, 0, 0, 0, 1, 1, 0, 0, 1, 0, 0, 0, 1, 0, 1, 0, 1,\n",
       "       0, 1, 0, 0, 0, 0, 1, 1, 1, 0, 0, 0, 1, 0, 0, 0, 1, 0, 0, 0, 1, 0,\n",
       "       1, 1, 1, 0, 0, 0, 1, 0, 1, 1, 1, 0, 1, 1, 1, 0, 1, 1, 0, 1, 0, 0,\n",
       "       1, 1, 1, 0, 0, 0, 0, 1, 0, 0, 0, 0, 1, 0, 1, 0, 1, 1, 1, 1, 0, 0,\n",
       "       1, 0, 0, 0, 1, 1, 1, 1, 0, 1])"
      ]
     },
     "execution_count": 9,
     "metadata": {},
     "output_type": "execute_result"
    }
   ],
   "source": [
    "y=np.random.randint(2,size=1000)\n",
    "y"
   ]
  },
  {
   "cell_type": "code",
   "execution_count": 10,
   "id": "cedd85ec-45d5-4026-9807-aba110ac7219",
   "metadata": {},
   "outputs": [],
   "source": [
    "from sklearn.model_selection import train_test_split\n",
    "X_train,X_test,y_train, y_test=train_test_split(x,y,test_size=0.2,random_state=0)"
   ]
  },
  {
   "cell_type": "code",
   "execution_count": 11,
   "id": "fe72bd87-6693-4340-8a10-6b7470a106f8",
   "metadata": {},
   "outputs": [],
   "source": [
    "from sklearn.linear_model import LogisticRegression"
   ]
  },
  {
   "cell_type": "code",
   "execution_count": 12,
   "id": "06708cde-fcc6-4cf7-ac45-025a2d8a244d",
   "metadata": {},
   "outputs": [],
   "source": [
    "from sklearn.metrics import accuracy_score,confusion_matrix,classification_report"
   ]
  },
  {
   "cell_type": "code",
   "execution_count": 13,
   "id": "caca294a-008f-4f91-ad83-f43e0688d34d",
   "metadata": {},
   "outputs": [],
   "source": [
    "model=LogisticRegression()"
   ]
  },
  {
   "cell_type": "code",
   "execution_count": 14,
   "id": "3479eb9e-ce7b-483f-8fec-1e0fd8296e14",
   "metadata": {},
   "outputs": [
    {
     "data": {
      "text/html": [
       "<style>#sk-container-id-1 {color: black;}#sk-container-id-1 pre{padding: 0;}#sk-container-id-1 div.sk-toggleable {background-color: white;}#sk-container-id-1 label.sk-toggleable__label {cursor: pointer;display: block;width: 100%;margin-bottom: 0;padding: 0.3em;box-sizing: border-box;text-align: center;}#sk-container-id-1 label.sk-toggleable__label-arrow:before {content: \"▸\";float: left;margin-right: 0.25em;color: #696969;}#sk-container-id-1 label.sk-toggleable__label-arrow:hover:before {color: black;}#sk-container-id-1 div.sk-estimator:hover label.sk-toggleable__label-arrow:before {color: black;}#sk-container-id-1 div.sk-toggleable__content {max-height: 0;max-width: 0;overflow: hidden;text-align: left;background-color: #f0f8ff;}#sk-container-id-1 div.sk-toggleable__content pre {margin: 0.2em;color: black;border-radius: 0.25em;background-color: #f0f8ff;}#sk-container-id-1 input.sk-toggleable__control:checked~div.sk-toggleable__content {max-height: 200px;max-width: 100%;overflow: auto;}#sk-container-id-1 input.sk-toggleable__control:checked~label.sk-toggleable__label-arrow:before {content: \"▾\";}#sk-container-id-1 div.sk-estimator input.sk-toggleable__control:checked~label.sk-toggleable__label {background-color: #d4ebff;}#sk-container-id-1 div.sk-label input.sk-toggleable__control:checked~label.sk-toggleable__label {background-color: #d4ebff;}#sk-container-id-1 input.sk-hidden--visually {border: 0;clip: rect(1px 1px 1px 1px);clip: rect(1px, 1px, 1px, 1px);height: 1px;margin: -1px;overflow: hidden;padding: 0;position: absolute;width: 1px;}#sk-container-id-1 div.sk-estimator {font-family: monospace;background-color: #f0f8ff;border: 1px dotted black;border-radius: 0.25em;box-sizing: border-box;margin-bottom: 0.5em;}#sk-container-id-1 div.sk-estimator:hover {background-color: #d4ebff;}#sk-container-id-1 div.sk-parallel-item::after {content: \"\";width: 100%;border-bottom: 1px solid gray;flex-grow: 1;}#sk-container-id-1 div.sk-label:hover label.sk-toggleable__label {background-color: #d4ebff;}#sk-container-id-1 div.sk-serial::before {content: \"\";position: absolute;border-left: 1px solid gray;box-sizing: border-box;top: 0;bottom: 0;left: 50%;z-index: 0;}#sk-container-id-1 div.sk-serial {display: flex;flex-direction: column;align-items: center;background-color: white;padding-right: 0.2em;padding-left: 0.2em;position: relative;}#sk-container-id-1 div.sk-item {position: relative;z-index: 1;}#sk-container-id-1 div.sk-parallel {display: flex;align-items: stretch;justify-content: center;background-color: white;position: relative;}#sk-container-id-1 div.sk-item::before, #sk-container-id-1 div.sk-parallel-item::before {content: \"\";position: absolute;border-left: 1px solid gray;box-sizing: border-box;top: 0;bottom: 0;left: 50%;z-index: -1;}#sk-container-id-1 div.sk-parallel-item {display: flex;flex-direction: column;z-index: 1;position: relative;background-color: white;}#sk-container-id-1 div.sk-parallel-item:first-child::after {align-self: flex-end;width: 50%;}#sk-container-id-1 div.sk-parallel-item:last-child::after {align-self: flex-start;width: 50%;}#sk-container-id-1 div.sk-parallel-item:only-child::after {width: 0;}#sk-container-id-1 div.sk-dashed-wrapped {border: 1px dashed gray;margin: 0 0.4em 0.5em 0.4em;box-sizing: border-box;padding-bottom: 0.4em;background-color: white;}#sk-container-id-1 div.sk-label label {font-family: monospace;font-weight: bold;display: inline-block;line-height: 1.2em;}#sk-container-id-1 div.sk-label-container {text-align: center;}#sk-container-id-1 div.sk-container {/* jupyter's `normalize.less` sets `[hidden] { display: none; }` but bootstrap.min.css set `[hidden] { display: none !important; }` so we also need the `!important` here to be able to override the default hidden behavior on the sphinx rendered scikit-learn.org. See: https://github.com/scikit-learn/scikit-learn/issues/21755 */display: inline-block !important;position: relative;}#sk-container-id-1 div.sk-text-repr-fallback {display: none;}</style><div id=\"sk-container-id-1\" class=\"sk-top-container\"><div class=\"sk-text-repr-fallback\"><pre>LogisticRegression()</pre><b>In a Jupyter environment, please rerun this cell to show the HTML representation or trust the notebook. <br />On GitHub, the HTML representation is unable to render, please try loading this page with nbviewer.org.</b></div><div class=\"sk-container\" hidden><div class=\"sk-item\"><div class=\"sk-estimator sk-toggleable\"><input class=\"sk-toggleable__control sk-hidden--visually\" id=\"sk-estimator-id-1\" type=\"checkbox\" checked><label for=\"sk-estimator-id-1\" class=\"sk-toggleable__label sk-toggleable__label-arrow\">LogisticRegression</label><div class=\"sk-toggleable__content\"><pre>LogisticRegression()</pre></div></div></div></div></div>"
      ],
      "text/plain": [
       "LogisticRegression()"
      ]
     },
     "execution_count": 14,
     "metadata": {},
     "output_type": "execute_result"
    }
   ],
   "source": [
    "model.fit(X_train,y_train)"
   ]
  },
  {
   "cell_type": "code",
   "execution_count": 15,
   "id": "d4262f2d-90cb-48dd-bf90-e84c71be95f8",
   "metadata": {},
   "outputs": [],
   "source": [
    "y_pred=model.predict(X_test)"
   ]
  },
  {
   "cell_type": "code",
   "execution_count": 16,
   "id": "26287850-766d-47ea-b29b-2ae0a47558d8",
   "metadata": {},
   "outputs": [
    {
     "data": {
      "text/plain": [
       "array([1, 1, 1, 0, 1, 0, 1, 0, 1, 1, 1, 1, 1, 1, 0, 1, 1, 0, 1, 1, 0, 0,\n",
       "       1, 1, 1, 1, 0, 1, 0, 1, 1, 1, 1, 0, 0, 1, 1, 1, 1, 1, 0, 1, 0, 0,\n",
       "       0, 1, 0, 0, 1, 1, 1, 1, 1, 1, 1, 0, 1, 1, 0, 1, 1, 1, 0, 1, 1, 1,\n",
       "       1, 0, 1, 1, 1, 1, 1, 0, 1, 0, 1, 1, 0, 1, 1, 1, 1, 1, 1, 1, 1, 1,\n",
       "       0, 0, 0, 0, 1, 1, 1, 1, 0, 1, 0, 1, 0, 1, 0, 0, 0, 1, 1, 1, 1, 0,\n",
       "       1, 0, 1, 0, 1, 1, 1, 1, 0, 1, 1, 0, 1, 1, 1, 0, 1, 1, 0, 0, 0, 1,\n",
       "       0, 1, 0, 1, 1, 1, 1, 0, 1, 1, 0, 0, 1, 1, 1, 1, 0, 1, 1, 0, 1, 0,\n",
       "       1, 1, 0, 1, 1, 0, 1, 0, 1, 1, 1, 0, 0, 0, 1, 1, 0, 1, 1, 1, 1, 1,\n",
       "       1, 1, 1, 0, 1, 1, 1, 1, 0, 0, 1, 1, 0, 1, 1, 1, 1, 0, 1, 1, 0, 1,\n",
       "       1, 1])"
      ]
     },
     "execution_count": 16,
     "metadata": {},
     "output_type": "execute_result"
    }
   ],
   "source": [
    "y_pred"
   ]
  },
  {
   "cell_type": "code",
   "execution_count": 17,
   "id": "57d465b5-4dd9-46cb-aa90-f46f6bf2412f",
   "metadata": {},
   "outputs": [
    {
     "name": "stdout",
     "output_type": "stream",
     "text": [
      "accuracy= 0.53\n"
     ]
    }
   ],
   "source": [
    "acc=accuracy_score(y_test,y_pred)\n",
    "print(\"accuracy=\",acc)"
   ]
  },
  {
   "cell_type": "code",
   "execution_count": 18,
   "id": "8e531a6b-ca92-43a3-a478-3aa04f0839c8",
   "metadata": {},
   "outputs": [
    {
     "name": "stdout",
     "output_type": "stream",
     "text": [
      "              precision    recall  f1-score   support\n",
      "\n",
      "           0       0.56      0.35      0.43       102\n",
      "           1       0.51      0.71      0.60        98\n",
      "\n",
      "    accuracy                           0.53       200\n",
      "   macro avg       0.54      0.53      0.52       200\n",
      "weighted avg       0.54      0.53      0.51       200\n",
      "\n"
     ]
    }
   ],
   "source": [
    "print(classification_report(y_test,y_pred))"
   ]
  },
  {
   "cell_type": "code",
   "execution_count": 19,
   "id": "a120b5e5-ae66-4c9d-85c2-83a1816861fa",
   "metadata": {},
   "outputs": [
    {
     "data": {
      "text/plain": [
       "Text(33.22222222222222, 0.5, 'actual value')"
      ]
     },
     "execution_count": 19,
     "metadata": {},
     "output_type": "execute_result"
    },
    {
     "data": {
      "image/png": "[encoded data removed]",
      "text/plain": [
       "<Figure size 500x500 with 2 Axes>"
      ]
     },
     "metadata": {},
     "output_type": "display_data"
    }
   ],
   "source": [
    "import seaborn as sns\n",
    "import matplotlib.pyplot as plt\n",
    "plt.figure(figsize=(5,5))\n",
    "sns.heatmap(confusion_matrix(y_test,y_pred),annot=True,cmap=\"Blues\")\n",
    "plt.xlabel(\"Pred value\")\n",
    "plt.ylabel(\"actual value\")"
   ]
  },
  {
   "cell_type": "code",
   "execution_count": 20,
   "id": "93a1eb89-3897-4626-a8fb-8572cebf1f0f",
   "metadata": {},
   "outputs": [],
   "source": [
    "from sklearn.tree import DecisionTreeClassifier"
   ]
  },
  {
   "cell_type": "code",
   "execution_count": 21,
   "id": "185ea41a-f5a1-4859-9b59-95a7eff4a070",
   "metadata": {},
   "outputs": [],
   "source": [
    "modeld=DecisionTreeClassifier()"
   ]
  },
  {
   "cell_type": "code",
   "execution_count": 22,
   "id": "33f5781e-4bf9-4219-8445-5e6e09bff148",
   "metadata": {},
   "outputs": [
    {
     "data": {
      "text/html": [
       "<style>#sk-container-id-2 {color: black;}#sk-container-id-2 pre{padding: 0;}#sk-container-id-2 div.sk-toggleable {background-color: white;}#sk-container-id-2 label.sk-toggleable__label {cursor: pointer;display: block;width: 100%;margin-bottom: 0;padding: 0.3em;box-sizing: border-box;text-align: center;}#sk-container-id-2 label.sk-toggleable__label-arrow:before {content: \"▸\";float: left;margin-right: 0.25em;color: #696969;}#sk-container-id-2 label.sk-toggleable__label-arrow:hover:before {color: black;}#sk-container-id-2 div.sk-estimator:hover label.sk-toggleable__label-arrow:before {color: black;}#sk-container-id-2 div.sk-toggleable__content {max-height: 0;max-width: 0;overflow: hidden;text-align: left;background-color: #f0f8ff;}#sk-container-id-2 div.sk-toggleable__content pre {margin: 0.2em;color: black;border-radius: 0.25em;background-color: #f0f8ff;}#sk-container-id-2 input.sk-toggleable__control:checked~div.sk-toggleable__content {max-height: 200px;max-width: 100%;overflow: auto;}#sk-container-id-2 input.sk-toggleable__control:checked~label.sk-toggleable__label-arrow:before {content: \"▾\";}#sk-container-id-2 div.sk-estimator input.sk-toggleable__control:checked~label.sk-toggleable__label {background-color: #d4ebff;}#sk-container-id-2 div.sk-label input.sk-toggleable__control:checked~label.sk-toggleable__label {background-color: #d4ebff;}#sk-container-id-2 input.sk-hidden--visually {border: 0;clip: rect(1px 1px 1px 1px);clip: rect(1px, 1px, 1px, 1px);height: 1px;margin: -1px;overflow: hidden;padding: 0;position: absolute;width: 1px;}#sk-container-id-2 div.sk-estimator {font-family: monospace;background-color: #f0f8ff;border: 1px dotted black;border-radius: 0.25em;box-sizing: border-box;margin-bottom: 0.5em;}#sk-container-id-2 div.sk-estimator:hover {background-color: #d4ebff;}#sk-container-id-2 div.sk-parallel-item::after {content: \"\";width: 100%;border-bottom: 1px solid gray;flex-grow: 1;}#sk-container-id-2 div.sk-label:hover label.sk-toggleable__label {background-color: #d4ebff;}#sk-container-id-2 div.sk-serial::before {content: \"\";position: absolute;border-left: 1px solid gray;box-sizing: border-box;top: 0;bottom: 0;left: 50%;z-index: 0;}#sk-container-id-2 div.sk-serial {display: flex;flex-direction: column;align-items: center;background-color: white;padding-right: 0.2em;padding-left: 0.2em;position: relative;}#sk-container-id-2 div.sk-item {position: relative;z-index: 1;}#sk-container-id-2 div.sk-parallel {display: flex;align-items: stretch;justify-content: center;background-color: white;position: relative;}#sk-container-id-2 div.sk-item::before, #sk-container-id-2 div.sk-parallel-item::before {content: \"\";position: absolute;border-left: 1px solid gray;box-sizing: border-box;top: 0;bottom: 0;left: 50%;z-index: -1;}#sk-container-id-2 div.sk-parallel-item {display: flex;flex-direction: column;z-index: 1;position: relative;background-color: white;}#sk-container-id-2 div.sk-parallel-item:first-child::after {align-self: flex-end;width: 50%;}#sk-container-id-2 div.sk-parallel-item:last-child::after {align-self: flex-start;width: 50%;}#sk-container-id-2 div.sk-parallel-item:only-child::after {width: 0;}#sk-container-id-2 div.sk-dashed-wrapped {border: 1px dashed gray;margin: 0 0.4em 0.5em 0.4em;box-sizing: border-box;padding-bottom: 0.4em;background-color: white;}#sk-container-id-2 div.sk-label label {font-family: monospace;font-weight: bold;display: inline-block;line-height: 1.2em;}#sk-container-id-2 div.sk-label-container {text-align: center;}#sk-container-id-2 div.sk-container {/* jupyter's `normalize.less` sets `[hidden] { display: none; }` but bootstrap.min.css set `[hidden] { display: none !important; }` so we also need the `!important` here to be able to override the default hidden behavior on the sphinx rendered scikit-learn.org. See: https://github.com/scikit-learn/scikit-learn/issues/21755 */display: inline-block !important;position: relative;}#sk-container-id-2 div.sk-text-repr-fallback {display: none;}</style><div id=\"sk-container-id-2\" class=\"sk-top-container\"><div class=\"sk-text-repr-fallback\"><pre>DecisionTreeClassifier()</pre><b>In a Jupyter environment, please rerun this cell to show the HTML representation or trust the notebook. <br />On GitHub, the HTML representation is unable to render, please try loading this page with nbviewer.org.</b></div><div class=\"sk-container\" hidden><div class=\"sk-item\"><div class=\"sk-estimator sk-toggleable\"><input class=\"sk-toggleable__control sk-hidden--visually\" id=\"sk-estimator-id-2\" type=\"checkbox\" checked><label for=\"sk-estimator-id-2\" class=\"sk-toggleable__label sk-toggleable__label-arrow\">DecisionTreeClassifier</label><div class=\"sk-toggleable__content\"><pre>DecisionTreeClassifier()</pre></div></div></div></div></div>"
      ],
      "text/plain": [
       "DecisionTreeClassifier()"
      ]
     },
     "execution_count": 22,
     "metadata": {},
     "output_type": "execute_result"
    }
   ],
   "source": [
    "modeld.fit(X_train,y_train)"
   ]
  },
  {
   "cell_type": "code",
   "execution_count": 23,
   "id": "4d5f58e5-ae4a-488d-8923-2e9e9e95774c",
   "metadata": {},
   "outputs": [],
   "source": [
    "y_pred=modeld.predict(X_test)"
   ]
  },
  {
   "cell_type": "code",
   "execution_count": 24,
   "id": "ea56f8b5-1082-4591-9f76-4e2e18b1f0aa",
   "metadata": {},
   "outputs": [
    {
     "name": "stdout",
     "output_type": "stream",
     "text": [
      "Accuracy= 0.555\n"
     ]
    }
   ],
   "source": [
    "print(\"Accuracy=\",accuracy_score(y_test,y_pred))"
   ]
  },
  {
   "cell_type": "code",
   "execution_count": 25,
   "id": "48ab226a-e5d6-4e9d-a4aa-0ff1b62f577d",
   "metadata": {},
   "outputs": [
    {
     "name": "stdout",
     "output_type": "stream",
     "text": [
      "              precision    recall  f1-score   support\n",
      "\n",
      "           0       0.57      0.54      0.55       102\n",
      "           1       0.54      0.57      0.56        98\n",
      "\n",
      "    accuracy                           0.56       200\n",
      "   macro avg       0.56      0.56      0.55       200\n",
      "weighted avg       0.56      0.56      0.55       200\n",
      "\n"
     ]
    }
   ],
   "source": [
    "print(classification_report(y_test,y_pred))"
   ]
  },
  {
   "cell_type": "code",
   "execution_count": 26,
   "id": "26043002-89c4-42df-a765-39a3092ce8e3",
   "metadata": {},
   "outputs": [
    {
     "data": {
      "image/png": "[encoded data removed]",
      "text/plain": [
       "<Figure size 500x400 with 2 Axes>"
      ]
     },
     "metadata": {},
     "output_type": "display_data"
    }
   ],
   "source": [
    "plt.figure(figsize=(5,4))\n",
    "sns.heatmap(confusion_matrix(y_test,y_pred),annot=True,cmap=\"Blues\")\n",
    "plt.xlabel(\"predicted\")\n",
    "plt.ylabel(\"actual\")\n",
    "plt.show()"
   ]
  },
  {
   "cell_type": "code",
   "execution_count": 27,
   "id": "c62a1b03-64c6-4210-b6ff-1d4c6381ac79",
   "metadata": {},
   "outputs": [
    {
     "data": {
      "text/plain": [
       "array([[55, 47],\n",
       "       [42, 56]], dtype=int64)"
      ]
     },
     "execution_count": 27,
     "metadata": {},
     "output_type": "execute_result"
    }
   ],
   "source": [
    "confusion_matrix(y_test,y_pred)"
   ]
  },
  {
   "cell_type": "code",
   "execution_count": 28,
   "id": "411d6ef2-a974-4112-a6e9-d2ff2eab10b4",
   "metadata": {},
   "outputs": [],
   "source": [
    "from sklearn.ensemble import RandomForestClassifier"
   ]
  },
  {
   "cell_type": "code",
   "execution_count": 29,
   "id": "fbd2314b-ddab-489c-b473-f12e9f66c6c8",
   "metadata": {},
   "outputs": [],
   "source": [
    "modelr=RandomForestClassifier()"
   ]
  },
  {
   "cell_type": "code",
   "execution_count": 30,
   "id": "891f3f35-5ec4-4686-b903-5b55c3f6c511",
   "metadata": {},
   "outputs": [
    {
     "data": {
      "text/html": [
       "<style>#sk-container-id-3 {color: black;}#sk-container-id-3 pre{padding: 0;}#sk-container-id-3 div.sk-toggleable {background-color: white;}#sk-container-id-3 label.sk-toggleable__label {cursor: pointer;display: block;width: 100%;margin-bottom: 0;padding: 0.3em;box-sizing: border-box;text-align: center;}#sk-container-id-3 label.sk-toggleable__label-arrow:before {content: \"▸\";float: left;margin-right: 0.25em;color: #696969;}#sk-container-id-3 label.sk-toggleable__label-arrow:hover:before {color: black;}#sk-container-id-3 div.sk-estimator:hover label.sk-toggleable__label-arrow:before {color: black;}#sk-container-id-3 div.sk-toggleable__content {max-height: 0;max-width: 0;overflow: hidden;text-align: left;background-color: #f0f8ff;}#sk-container-id-3 div.sk-toggleable__content pre {margin: 0.2em;color: black;border-radius: 0.25em;background-color: #f0f8ff;}#sk-container-id-3 input.sk-toggleable__control:checked~div.sk-toggleable__content {max-height: 200px;max-width: 100%;overflow: auto;}#sk-container-id-3 input.sk-toggleable__control:checked~label.sk-toggleable__label-arrow:before {content: \"▾\";}#sk-container-id-3 div.sk-estimator input.sk-toggleable__control:checked~label.sk-toggleable__label {background-color: #d4ebff;}#sk-container-id-3 div.sk-label input.sk-toggleable__control:checked~label.sk-toggleable__label {background-color: #d4ebff;}#sk-container-id-3 input.sk-hidden--visually {border: 0;clip: rect(1px 1px 1px 1px);clip: rect(1px, 1px, 1px, 1px);height: 1px;margin: -1px;overflow: hidden;padding: 0;position: absolute;width: 1px;}#sk-container-id-3 div.sk-estimator {font-family: monospace;background-color: #f0f8ff;border: 1px dotted black;border-radius: 0.25em;box-sizing: border-box;margin-bottom: 0.5em;}#sk-container-id-3 div.sk-estimator:hover {background-color: #d4ebff;}#sk-container-id-3 div.sk-parallel-item::after {content: \"\";width: 100%;border-bottom: 1px solid gray;flex-grow: 1;}#sk-container-id-3 div.sk-label:hover label.sk-toggleable__label {background-color: #d4ebff;}#sk-container-id-3 div.sk-serial::before {content: \"\";position: absolute;border-left: 1px solid gray;box-sizing: border-box;top: 0;bottom: 0;left: 50%;z-index: 0;}#sk-container-id-3 div.sk-serial {display: flex;flex-direction: column;align-items: center;background-color: white;padding-right: 0.2em;padding-left: 0.2em;position: relative;}#sk-container-id-3 div.sk-item {position: relative;z-index: 1;}#sk-container-id-3 div.sk-parallel {display: flex;align-items: stretch;justify-content: center;background-color: white;position: relative;}#sk-container-id-3 div.sk-item::before, #sk-container-id-3 div.sk-parallel-item::before {content: \"\";position: absolute;border-left: 1px solid gray;box-sizing: border-box;top: 0;bottom: 0;left: 50%;z-index: -1;}#sk-container-id-3 div.sk-parallel-item {display: flex;flex-direction: column;z-index: 1;position: relative;background-color: white;}#sk-container-id-3 div.sk-parallel-item:first-child::after {align-self: flex-end;width: 50%;}#sk-container-id-3 div.sk-parallel-item:last-child::after {align-self: flex-start;width: 50%;}#sk-container-id-3 div.sk-parallel-item:only-child::after {width: 0;}#sk-container-id-3 div.sk-dashed-wrapped {border: 1px dashed gray;margin: 0 0.4em 0.5em 0.4em;box-sizing: border-box;padding-bottom: 0.4em;background-color: white;}#sk-container-id-3 div.sk-label label {font-family: monospace;font-weight: bold;display: inline-block;line-height: 1.2em;}#sk-container-id-3 div.sk-label-container {text-align: center;}#sk-container-id-3 div.sk-container {/* jupyter's `normalize.less` sets `[hidden] { display: none; }` but bootstrap.min.css set `[hidden] { display: none !important; }` so we also need the `!important` here to be able to override the default hidden behavior on the sphinx rendered scikit-learn.org. See: https://github.com/scikit-learn/scikit-learn/issues/21755 */display: inline-block !important;position: relative;}#sk-container-id-3 div.sk-text-repr-fallback {display: none;}</style><div id=\"sk-container-id-3\" class=\"sk-top-container\"><div class=\"sk-text-repr-fallback\"><pre>RandomForestClassifier()</pre><b>In a Jupyter environment, please rerun this cell to show the HTML representation or trust the notebook. <br />On GitHub, the HTML representation is unable to render, please try loading this page with nbviewer.org.</b></div><div class=\"sk-container\" hidden><div class=\"sk-item\"><div class=\"sk-estimator sk-toggleable\"><input class=\"sk-toggleable__control sk-hidden--visually\" id=\"sk-estimator-id-3\" type=\"checkbox\" checked><label for=\"sk-estimator-id-3\" class=\"sk-toggleable__label sk-toggleable__label-arrow\">RandomForestClassifier</label><div class=\"sk-toggleable__content\"><pre>RandomForestClassifier()</pre></div></div></div></div></div>"
      ],
      "text/plain": [
       "RandomForestClassifier()"
      ]
     },
     "execution_count": 30,
     "metadata": {},
     "output_type": "execute_result"
    }
   ],
   "source": [
    "modelr.fit(X_train,y_train)"
   ]
  },
  {
   "cell_type": "code",
   "execution_count": 31,
   "id": "b77daeb3-6f27-4142-9d9a-2ffc8613941e",
   "metadata": {},
   "outputs": [],
   "source": [
    "y_pred=modelr.predict(X_test)"
   ]
  },
  {
   "cell_type": "code",
   "execution_count": 32,
   "id": "848d08d1-d341-4228-ac25-223c07ac7529",
   "metadata": {},
   "outputs": [
    {
     "name": "stdout",
     "output_type": "stream",
     "text": [
      "Accuracy= 0.475\n"
     ]
    }
   ],
   "source": [
    "print(\"Accuracy=\",accuracy_score(y_test,y_pred))"
   ]
  },
  {
   "cell_type": "code",
   "execution_count": 33,
   "id": "9b2e4c1b-7f42-42cf-92f3-77dbd8529eec",
   "metadata": {},
   "outputs": [
    {
     "name": "stdout",
     "output_type": "stream",
     "text": [
      "              precision    recall  f1-score   support\n",
      "\n",
      "           0       0.48      0.41      0.44       102\n",
      "           1       0.47      0.54      0.50        98\n",
      "\n",
      "    accuracy                           0.48       200\n",
      "   macro avg       0.48      0.48      0.47       200\n",
      "weighted avg       0.48      0.47      0.47       200\n",
      "\n"
     ]
    }
   ],
   "source": [
    "print(classification_report(y_test,y_pred))"
   ]
  },
  {
   "cell_type": "code",
   "execution_count": 34,
   "id": "2679672a-9530-4dd1-ac7c-8c1fe5d6f073",
   "metadata": {},
   "outputs": [
    {
     "data": {
      "text/plain": [
       "<Axes: >"
      ]
     },
     "execution_count": 34,
     "metadata": {},
     "output_type": "execute_result"
    },
    {
     "data": {
      "image/png": "[encoded data removed]",
      "text/plain": [
       "<Figure size 500x400 with 2 Axes>"
      ]
     },
     "metadata": {},
     "output_type": "display_data"
    }
   ],
   "source": [
    "plt.figure(figsize=(5,4))\n",
    "sns.heatmap(confusion_matrix(y_test,y_pred),annot=True,cmap=\"Blues\")"
   ]
  },
  {
   "cell_type": "code",
   "execution_count": 35,
   "id": "fecabdd0-ef1f-478b-bb0d-b55e8996d2a3",
   "metadata": {},
   "outputs": [],
   "source": [
    "from sklearn.svm import SVC"
   ]
  },
  {
   "cell_type": "code",
   "execution_count": 36,
   "id": "900a10eb-684d-494d-84fa-f13210a3f4e5",
   "metadata": {},
   "outputs": [],
   "source": [
    "modelsvm=SVC()"
   ]
  },
  {
   "cell_type": "code",
   "execution_count": 37,
   "id": "4e5319e5-d48c-499f-9853-d8190bd483d2",
   "metadata": {},
   "outputs": [
    {
     "data": {
      "text/html": [
       "<style>#sk-container-id-4 {color: black;}#sk-container-id-4 pre{padding: 0;}#sk-container-id-4 div.sk-toggleable {background-color: white;}#sk-container-id-4 label.sk-toggleable__label {cursor: pointer;display: block;width: 100%;margin-bottom: 0;padding: 0.3em;box-sizing: border-box;text-align: center;}#sk-container-id-4 label.sk-toggleable__label-arrow:before {content: \"▸\";float: left;margin-right: 0.25em;color: #696969;}#sk-container-id-4 label.sk-toggleable__label-arrow:hover:before {color: black;}#sk-container-id-4 div.sk-estimator:hover label.sk-toggleable__label-arrow:before {color: black;}#sk-container-id-4 div.sk-toggleable__content {max-height: 0;max-width: 0;overflow: hidden;text-align: left;background-color: #f0f8ff;}#sk-container-id-4 div.sk-toggleable__content pre {margin: 0.2em;color: black;border-radius: 0.25em;background-color: #f0f8ff;}#sk-container-id-4 input.sk-toggleable__control:checked~div.sk-toggleable__content {max-height: 200px;max-width: 100%;overflow: auto;}#sk-container-id-4 input.sk-toggleable__control:checked~label.sk-toggleable__label-arrow:before {content: \"▾\";}#sk-container-id-4 div.sk-estimator input.sk-toggleable__control:checked~label.sk-toggleable__label {background-color: #d4ebff;}#sk-container-id-4 div.sk-label input.sk-toggleable__control:checked~label.sk-toggleable__label {background-color: #d4ebff;}#sk-container-id-4 input.sk-hidden--visually {border: 0;clip: rect(1px 1px 1px 1px);clip: rect(1px, 1px, 1px, 1px);height: 1px;margin: -1px;overflow: hidden;padding: 0;position: absolute;width: 1px;}#sk-container-id-4 div.sk-estimator {font-family: monospace;background-color: #f0f8ff;border: 1px dotted black;border-radius: 0.25em;box-sizing: border-box;margin-bottom: 0.5em;}#sk-container-id-4 div.sk-estimator:hover {background-color: #d4ebff;}#sk-container-id-4 div.sk-parallel-item::after {content: \"\";width: 100%;border-bottom: 1px solid gray;flex-grow: 1;}#sk-container-id-4 div.sk-label:hover label.sk-toggleable__label {background-color: #d4ebff;}#sk-container-id-4 div.sk-serial::before {content: \"\";position: absolute;border-left: 1px solid gray;box-sizing: border-box;top: 0;bottom: 0;left: 50%;z-index: 0;}#sk-container-id-4 div.sk-serial {display: flex;flex-direction: column;align-items: center;background-color: white;padding-right: 0.2em;padding-left: 0.2em;position: relative;}#sk-container-id-4 div.sk-item {position: relative;z-index: 1;}#sk-container-id-4 div.sk-parallel {display: flex;align-items: stretch;justify-content: center;background-color: white;position: relative;}#sk-container-id-4 div.sk-item::before, #sk-container-id-4 div.sk-parallel-item::before {content: \"\";position: absolute;border-left: 1px solid gray;box-sizing: border-box;top: 0;bottom: 0;left: 50%;z-index: -1;}#sk-container-id-4 div.sk-parallel-item {display: flex;flex-direction: column;z-index: 1;position: relative;background-color: white;}#sk-container-id-4 div.sk-parallel-item:first-child::after {align-self: flex-end;width: 50%;}#sk-container-id-4 div.sk-parallel-item:last-child::after {align-self: flex-start;width: 50%;}#sk-container-id-4 div.sk-parallel-item:only-child::after {width: 0;}#sk-container-id-4 div.sk-dashed-wrapped {border: 1px dashed gray;margin: 0 0.4em 0.5em 0.4em;box-sizing: border-box;padding-bottom: 0.4em;background-color: white;}#sk-container-id-4 div.sk-label label {font-family: monospace;font-weight: bold;display: inline-block;line-height: 1.2em;}#sk-container-id-4 div.sk-label-container {text-align: center;}#sk-container-id-4 div.sk-container {/* jupyter's `normalize.less` sets `[hidden] { display: none; }` but bootstrap.min.css set `[hidden] { display: none !important; }` so we also need the `!important` here to be able to override the default hidden behavior on the sphinx rendered scikit-learn.org. See: https://github.com/scikit-learn/scikit-learn/issues/21755 */display: inline-block !important;position: relative;}#sk-container-id-4 div.sk-text-repr-fallback {display: none;}</style><div id=\"sk-container-id-4\" class=\"sk-top-container\"><div class=\"sk-text-repr-fallback\"><pre>SVC()</pre><b>In a Jupyter environment, please rerun this cell to show the HTML representation or trust the notebook. <br />On GitHub, the HTML representation is unable to render, please try loading this page with nbviewer.org.</b></div><div class=\"sk-container\" hidden><div class=\"sk-item\"><div class=\"sk-estimator sk-toggleable\"><input class=\"sk-toggleable__control sk-hidden--visually\" id=\"sk-estimator-id-4\" type=\"checkbox\" checked><label for=\"sk-estimator-id-4\" class=\"sk-toggleable__label sk-toggleable__label-arrow\">SVC</label><div class=\"sk-toggleable__content\"><pre>SVC()</pre></div></div></div></div></div>"
      ],
      "text/plain": [
       "SVC()"
      ]
     },
     "execution_count": 37,
     "metadata": {},
     "output_type": "execute_result"
    }
   ],
   "source": [
    "modelsvm.fit(X_train,y_train)"
   ]
  },
  {
   "cell_type": "code",
   "execution_count": 38,
   "id": "a8cb4401-4f33-4ad1-91f7-6e23dde0821e",
   "metadata": {},
   "outputs": [],
   "source": [
    "y_pred=modelsvm.predict(X_test)"
   ]
  },
  {
   "cell_type": "code",
   "execution_count": 39,
   "id": "232113eb-9f69-4e2f-aec8-17cc6ca77f0d",
   "metadata": {},
   "outputs": [
    {
     "name": "stdout",
     "output_type": "stream",
     "text": [
      "accuracy 0.53\n"
     ]
    }
   ],
   "source": [
    "print(\"accuracy\",accuracy_score(y_test,y_pred))"
   ]
  },
  {
   "cell_type": "code",
   "execution_count": 40,
   "id": "41fba0a4-f0ae-41fa-9bed-280d8de78537",
   "metadata": {},
   "outputs": [
    {
     "name": "stdout",
     "output_type": "stream",
     "text": [
      "              precision    recall  f1-score   support\n",
      "\n",
      "           0       0.55      0.40      0.47       102\n",
      "           1       0.52      0.66      0.58        98\n",
      "\n",
      "    accuracy                           0.53       200\n",
      "   macro avg       0.53      0.53      0.52       200\n",
      "weighted avg       0.54      0.53      0.52       200\n",
      "\n"
     ]
    }
   ],
   "source": [
    "print(classification_report(y_test,y_pred))"
   ]
  },
  {
   "cell_type": "code",
   "execution_count": 41,
   "id": "e9d9d8cb-e176-48c6-8153-227a965f4af2",
   "metadata": {},
   "outputs": [
    {
     "data": {
      "text/plain": [
       "<Axes: >"
      ]
     },
     "execution_count": 41,
     "metadata": {},
     "output_type": "execute_result"
    },
    {
     "data": {
      "image/png": "[encoded data removed]",
      "text/plain": [
       "<Figure size 640x480 with 2 Axes>"
      ]
     },
     "metadata": {},
     "output_type": "display_data"
    }
   ],
   "source": [
    "sns.heatmap(confusion_matrix(y_test,y_pred),annot=True,cmap=\"Blues\")"
   ]
  },
  {
   "cell_type": "markdown",
   "id": "6090f63e-ce10-447c-b911-0659afe4554c",
   "metadata": {},
   "source": [
    "###  Regression"
   ]
  },
  {
   "cell_type": "code",
   "execution_count": 42,
   "id": "9081937a-dc4c-4fb1-ac88-e6805dddd19d",
   "metadata": {},
   "outputs": [],
   "source": [
    "import pandas as pd"
   ]
  },
  {
   "cell_type": "code",
   "execution_count": 43,
   "id": "09fe2924-86f6-48b3-8f01-dd06721e9f1d",
   "metadata": {},
   "outputs": [],
   "source": [
    "data=pd.DataFrame(np.arange(0,100).reshape(10,10),columns=[\"c1\",\"c2\",\"c3\",\"c4\",\"c5\",\"c6\",\"c7\",\"c8\",\"c9\",\"c10\"])"
   ]
  },
  {
   "cell_type": "code",
   "execution_count": 44,
   "id": "1f473c38-9758-4deb-8ccb-1aabdb891f10",
   "metadata": {
    "scrolled": true
   },
   "outputs": [
    {
     "data": {
      "text/html": [
       "<div>\n",
       "<style scoped>\n",
       "    .dataframe tbody tr th:only-of-type {\n",
       "        vertical-align: middle;\n",
       "    }\n",
       "\n",
       "    .dataframe tbody tr th {\n",
       "        vertical-align: top;\n",
       "    }\n",
       "\n",
       "    .dataframe thead th {\n",
       "        text-align: right;\n",
       "    }\n",
       "</style>\n",
       "<table border=\"1\" class=\"dataframe\">\n",
       "  <thead>\n",
       "    <tr style=\"text-align: right;\">\n",
       "      <th></th>\n",
       "      <th>c1</th>\n",
       "      <th>c2</th>\n",
       "      <th>c3</th>\n",
       "      <th>c4</th>\n",
       "      <th>c5</th>\n",
       "      <th>c6</th>\n",
       "      <th>c7</th>\n",
       "      <th>c8</th>\n",
       "      <th>c9</th>\n",
       "      <th>c10</th>\n",
       "    </tr>\n",
       "  </thead>\n",
       "  <tbody>\n",
       "    <tr>\n",
       "      <th>0</th>\n",
       "      <td>0</td>\n",
       "      <td>1</td>\n",
       "      <td>2</td>\n",
       "      <td>3</td>\n",
       "      <td>4</td>\n",
       "      <td>5</td>\n",
       "      <td>6</td>\n",
       "      <td>7</td>\n",
       "      <td>8</td>\n",
       "      <td>9</td>\n",
       "    </tr>\n",
       "    <tr>\n",
       "      <th>1</th>\n",
       "      <td>10</td>\n",
       "      <td>11</td>\n",
       "      <td>12</td>\n",
       "      <td>13</td>\n",
       "      <td>14</td>\n",
       "      <td>15</td>\n",
       "      <td>16</td>\n",
       "      <td>17</td>\n",
       "      <td>18</td>\n",
       "      <td>19</td>\n",
       "    </tr>\n",
       "    <tr>\n",
       "      <th>2</th>\n",
       "      <td>20</td>\n",
       "      <td>21</td>\n",
       "      <td>22</td>\n",
       "      <td>23</td>\n",
       "      <td>24</td>\n",
       "      <td>25</td>\n",
       "      <td>26</td>\n",
       "      <td>27</td>\n",
       "      <td>28</td>\n",
       "      <td>29</td>\n",
       "    </tr>\n",
       "    <tr>\n",
       "      <th>3</th>\n",
       "      <td>30</td>\n",
       "      <td>31</td>\n",
       "      <td>32</td>\n",
       "      <td>33</td>\n",
       "      <td>34</td>\n",
       "      <td>35</td>\n",
       "      <td>36</td>\n",
       "      <td>37</td>\n",
       "      <td>38</td>\n",
       "      <td>39</td>\n",
       "    </tr>\n",
       "    <tr>\n",
       "      <th>4</th>\n",
       "      <td>40</td>\n",
       "      <td>41</td>\n",
       "      <td>42</td>\n",
       "      <td>43</td>\n",
       "      <td>44</td>\n",
       "      <td>45</td>\n",
       "      <td>46</td>\n",
       "      <td>47</td>\n",
       "      <td>48</td>\n",
       "      <td>49</td>\n",
       "    </tr>\n",
       "    <tr>\n",
       "      <th>5</th>\n",
       "      <td>50</td>\n",
       "      <td>51</td>\n",
       "      <td>52</td>\n",
       "      <td>53</td>\n",
       "      <td>54</td>\n",
       "      <td>55</td>\n",
       "      <td>56</td>\n",
       "      <td>57</td>\n",
       "      <td>58</td>\n",
       "      <td>59</td>\n",
       "    </tr>\n",
       "    <tr>\n",
       "      <th>6</th>\n",
       "      <td>60</td>\n",
       "      <td>61</td>\n",
       "      <td>62</td>\n",
       "      <td>63</td>\n",
       "      <td>64</td>\n",
       "      <td>65</td>\n",
       "      <td>66</td>\n",
       "      <td>67</td>\n",
       "      <td>68</td>\n",
       "      <td>69</td>\n",
       "    </tr>\n",
       "    <tr>\n",
       "      <th>7</th>\n",
       "      <td>70</td>\n",
       "      <td>71</td>\n",
       "      <td>72</td>\n",
       "      <td>73</td>\n",
       "      <td>74</td>\n",
       "      <td>75</td>\n",
       "      <td>76</td>\n",
       "      <td>77</td>\n",
       "      <td>78</td>\n",
       "      <td>79</td>\n",
       "    </tr>\n",
       "    <tr>\n",
       "      <th>8</th>\n",
       "      <td>80</td>\n",
       "      <td>81</td>\n",
       "      <td>82</td>\n",
       "      <td>83</td>\n",
       "      <td>84</td>\n",
       "      <td>85</td>\n",
       "      <td>86</td>\n",
       "      <td>87</td>\n",
       "      <td>88</td>\n",
       "      <td>89</td>\n",
       "    </tr>\n",
       "    <tr>\n",
       "      <th>9</th>\n",
       "      <td>90</td>\n",
       "      <td>91</td>\n",
       "      <td>92</td>\n",
       "      <td>93</td>\n",
       "      <td>94</td>\n",
       "      <td>95</td>\n",
       "      <td>96</td>\n",
       "      <td>97</td>\n",
       "      <td>98</td>\n",
       "      <td>99</td>\n",
       "    </tr>\n",
       "  </tbody>\n",
       "</table>\n",
       "</div>"
      ],
      "text/plain": [
       "   c1  c2  c3  c4  c5  c6  c7  c8  c9  c10\n",
       "0   0   1   2   3   4   5   6   7   8    9\n",
       "1  10  11  12  13  14  15  16  17  18   19\n",
       "2  20  21  22  23  24  25  26  27  28   29\n",
       "3  30  31  32  33  34  35  36  37  38   39\n",
       "4  40  41  42  43  44  45  46  47  48   49\n",
       "5  50  51  52  53  54  55  56  57  58   59\n",
       "6  60  61  62  63  64  65  66  67  68   69\n",
       "7  70  71  72  73  74  75  76  77  78   79\n",
       "8  80  81  82  83  84  85  86  87  88   89\n",
       "9  90  91  92  93  94  95  96  97  98   99"
      ]
     },
     "execution_count": 44,
     "metadata": {},
     "output_type": "execute_result"
    }
   ],
   "source": [
    "data"
   ]
  },
  {
   "cell_type": "code",
   "execution_count": 45,
   "id": "bc66e9d0-e5b5-49ca-9053-7e7761c42ed7",
   "metadata": {},
   "outputs": [
    {
     "data": {
      "text/html": [
       "<div>\n",
       "<style scoped>\n",
       "    .dataframe tbody tr th:only-of-type {\n",
       "        vertical-align: middle;\n",
       "    }\n",
       "\n",
       "    .dataframe tbody tr th {\n",
       "        vertical-align: top;\n",
       "    }\n",
       "\n",
       "    .dataframe thead th {\n",
       "        text-align: right;\n",
       "    }\n",
       "</style>\n",
       "<table border=\"1\" class=\"dataframe\">\n",
       "  <thead>\n",
       "    <tr style=\"text-align: right;\">\n",
       "      <th></th>\n",
       "      <th>c1</th>\n",
       "      <th>c2</th>\n",
       "      <th>c3</th>\n",
       "      <th>c4</th>\n",
       "      <th>c5</th>\n",
       "      <th>c6</th>\n",
       "      <th>c7</th>\n",
       "      <th>c8</th>\n",
       "      <th>c9</th>\n",
       "      <th>c10</th>\n",
       "    </tr>\n",
       "  </thead>\n",
       "  <tbody>\n",
       "    <tr>\n",
       "      <th>c1</th>\n",
       "      <td>1.0</td>\n",
       "      <td>1.0</td>\n",
       "      <td>1.0</td>\n",
       "      <td>1.0</td>\n",
       "      <td>1.0</td>\n",
       "      <td>1.0</td>\n",
       "      <td>1.0</td>\n",
       "      <td>1.0</td>\n",
       "      <td>1.0</td>\n",
       "      <td>1.0</td>\n",
       "    </tr>\n",
       "    <tr>\n",
       "      <th>c2</th>\n",
       "      <td>1.0</td>\n",
       "      <td>1.0</td>\n",
       "      <td>1.0</td>\n",
       "      <td>1.0</td>\n",
       "      <td>1.0</td>\n",
       "      <td>1.0</td>\n",
       "      <td>1.0</td>\n",
       "      <td>1.0</td>\n",
       "      <td>1.0</td>\n",
       "      <td>1.0</td>\n",
       "    </tr>\n",
       "    <tr>\n",
       "      <th>c3</th>\n",
       "      <td>1.0</td>\n",
       "      <td>1.0</td>\n",
       "      <td>1.0</td>\n",
       "      <td>1.0</td>\n",
       "      <td>1.0</td>\n",
       "      <td>1.0</td>\n",
       "      <td>1.0</td>\n",
       "      <td>1.0</td>\n",
       "      <td>1.0</td>\n",
       "      <td>1.0</td>\n",
       "    </tr>\n",
       "    <tr>\n",
       "      <th>c4</th>\n",
       "      <td>1.0</td>\n",
       "      <td>1.0</td>\n",
       "      <td>1.0</td>\n",
       "      <td>1.0</td>\n",
       "      <td>1.0</td>\n",
       "      <td>1.0</td>\n",
       "      <td>1.0</td>\n",
       "      <td>1.0</td>\n",
       "      <td>1.0</td>\n",
       "      <td>1.0</td>\n",
       "    </tr>\n",
       "    <tr>\n",
       "      <th>c5</th>\n",
       "      <td>1.0</td>\n",
       "      <td>1.0</td>\n",
       "      <td>1.0</td>\n",
       "      <td>1.0</td>\n",
       "      <td>1.0</td>\n",
       "      <td>1.0</td>\n",
       "      <td>1.0</td>\n",
       "      <td>1.0</td>\n",
       "      <td>1.0</td>\n",
       "      <td>1.0</td>\n",
       "    </tr>\n",
       "    <tr>\n",
       "      <th>c6</th>\n",
       "      <td>1.0</td>\n",
       "      <td>1.0</td>\n",
       "      <td>1.0</td>\n",
       "      <td>1.0</td>\n",
       "      <td>1.0</td>\n",
       "      <td>1.0</td>\n",
       "      <td>1.0</td>\n",
       "      <td>1.0</td>\n",
       "      <td>1.0</td>\n",
       "      <td>1.0</td>\n",
       "    </tr>\n",
       "    <tr>\n",
       "      <th>c7</th>\n",
       "      <td>1.0</td>\n",
       "      <td>1.0</td>\n",
       "      <td>1.0</td>\n",
       "      <td>1.0</td>\n",
       "      <td>1.0</td>\n",
       "      <td>1.0</td>\n",
       "      <td>1.0</td>\n",
       "      <td>1.0</td>\n",
       "      <td>1.0</td>\n",
       "      <td>1.0</td>\n",
       "    </tr>\n",
       "    <tr>\n",
       "      <th>c8</th>\n",
       "      <td>1.0</td>\n",
       "      <td>1.0</td>\n",
       "      <td>1.0</td>\n",
       "      <td>1.0</td>\n",
       "      <td>1.0</td>\n",
       "      <td>1.0</td>\n",
       "      <td>1.0</td>\n",
       "      <td>1.0</td>\n",
       "      <td>1.0</td>\n",
       "      <td>1.0</td>\n",
       "    </tr>\n",
       "    <tr>\n",
       "      <th>c9</th>\n",
       "      <td>1.0</td>\n",
       "      <td>1.0</td>\n",
       "      <td>1.0</td>\n",
       "      <td>1.0</td>\n",
       "      <td>1.0</td>\n",
       "      <td>1.0</td>\n",
       "      <td>1.0</td>\n",
       "      <td>1.0</td>\n",
       "      <td>1.0</td>\n",
       "      <td>1.0</td>\n",
       "    </tr>\n",
       "    <tr>\n",
       "      <th>c10</th>\n",
       "      <td>1.0</td>\n",
       "      <td>1.0</td>\n",
       "      <td>1.0</td>\n",
       "      <td>1.0</td>\n",
       "      <td>1.0</td>\n",
       "      <td>1.0</td>\n",
       "      <td>1.0</td>\n",
       "      <td>1.0</td>\n",
       "      <td>1.0</td>\n",
       "      <td>1.0</td>\n",
       "    </tr>\n",
       "  </tbody>\n",
       "</table>\n",
       "</div>"
      ],
      "text/plain": [
       "      c1   c2   c3   c4   c5   c6   c7   c8   c9  c10\n",
       "c1   1.0  1.0  1.0  1.0  1.0  1.0  1.0  1.0  1.0  1.0\n",
       "c2   1.0  1.0  1.0  1.0  1.0  1.0  1.0  1.0  1.0  1.0\n",
       "c3   1.0  1.0  1.0  1.0  1.0  1.0  1.0  1.0  1.0  1.0\n",
       "c4   1.0  1.0  1.0  1.0  1.0  1.0  1.0  1.0  1.0  1.0\n",
       "c5   1.0  1.0  1.0  1.0  1.0  1.0  1.0  1.0  1.0  1.0\n",
       "c6   1.0  1.0  1.0  1.0  1.0  1.0  1.0  1.0  1.0  1.0\n",
       "c7   1.0  1.0  1.0  1.0  1.0  1.0  1.0  1.0  1.0  1.0\n",
       "c8   1.0  1.0  1.0  1.0  1.0  1.0  1.0  1.0  1.0  1.0\n",
       "c9   1.0  1.0  1.0  1.0  1.0  1.0  1.0  1.0  1.0  1.0\n",
       "c10  1.0  1.0  1.0  1.0  1.0  1.0  1.0  1.0  1.0  1.0"
      ]
     },
     "execution_count": 45,
     "metadata": {},
     "output_type": "execute_result"
    }
   ],
   "source": [
    "data.corr()"
   ]
  },
  {
   "cell_type": "code",
   "execution_count": 46,
   "id": "4b2bdc2e-f942-4237-b924-c7fccf87cc06",
   "metadata": {},
   "outputs": [],
   "source": [
    "x=data.iloc[:,:9]"
   ]
  },
  {
   "cell_type": "code",
   "execution_count": 47,
   "id": "af95fb0e-66b4-4b62-8790-8134aef179b7",
   "metadata": {},
   "outputs": [
    {
     "data": {
      "text/html": [
       "<div>\n",
       "<style scoped>\n",
       "    .dataframe tbody tr th:only-of-type {\n",
       "        vertical-align: middle;\n",
       "    }\n",
       "\n",
       "    .dataframe tbody tr th {\n",
       "        vertical-align: top;\n",
       "    }\n",
       "\n",
       "    .dataframe thead th {\n",
       "        text-align: right;\n",
       "    }\n",
       "</style>\n",
       "<table border=\"1\" class=\"dataframe\">\n",
       "  <thead>\n",
       "    <tr style=\"text-align: right;\">\n",
       "      <th></th>\n",
       "      <th>c1</th>\n",
       "      <th>c2</th>\n",
       "      <th>c3</th>\n",
       "      <th>c4</th>\n",
       "      <th>c5</th>\n",
       "      <th>c6</th>\n",
       "      <th>c7</th>\n",
       "      <th>c8</th>\n",
       "      <th>c9</th>\n",
       "    </tr>\n",
       "  </thead>\n",
       "  <tbody>\n",
       "    <tr>\n",
       "      <th>0</th>\n",
       "      <td>0</td>\n",
       "      <td>1</td>\n",
       "      <td>2</td>\n",
       "      <td>3</td>\n",
       "      <td>4</td>\n",
       "      <td>5</td>\n",
       "      <td>6</td>\n",
       "      <td>7</td>\n",
       "      <td>8</td>\n",
       "    </tr>\n",
       "    <tr>\n",
       "      <th>1</th>\n",
       "      <td>10</td>\n",
       "      <td>11</td>\n",
       "      <td>12</td>\n",
       "      <td>13</td>\n",
       "      <td>14</td>\n",
       "      <td>15</td>\n",
       "      <td>16</td>\n",
       "      <td>17</td>\n",
       "      <td>18</td>\n",
       "    </tr>\n",
       "    <tr>\n",
       "      <th>2</th>\n",
       "      <td>20</td>\n",
       "      <td>21</td>\n",
       "      <td>22</td>\n",
       "      <td>23</td>\n",
       "      <td>24</td>\n",
       "      <td>25</td>\n",
       "      <td>26</td>\n",
       "      <td>27</td>\n",
       "      <td>28</td>\n",
       "    </tr>\n",
       "    <tr>\n",
       "      <th>3</th>\n",
       "      <td>30</td>\n",
       "      <td>31</td>\n",
       "      <td>32</td>\n",
       "      <td>33</td>\n",
       "      <td>34</td>\n",
       "      <td>35</td>\n",
       "      <td>36</td>\n",
       "      <td>37</td>\n",
       "      <td>38</td>\n",
       "    </tr>\n",
       "    <tr>\n",
       "      <th>4</th>\n",
       "      <td>40</td>\n",
       "      <td>41</td>\n",
       "      <td>42</td>\n",
       "      <td>43</td>\n",
       "      <td>44</td>\n",
       "      <td>45</td>\n",
       "      <td>46</td>\n",
       "      <td>47</td>\n",
       "      <td>48</td>\n",
       "    </tr>\n",
       "    <tr>\n",
       "      <th>5</th>\n",
       "      <td>50</td>\n",
       "      <td>51</td>\n",
       "      <td>52</td>\n",
       "      <td>53</td>\n",
       "      <td>54</td>\n",
       "      <td>55</td>\n",
       "      <td>56</td>\n",
       "      <td>57</td>\n",
       "      <td>58</td>\n",
       "    </tr>\n",
       "    <tr>\n",
       "      <th>6</th>\n",
       "      <td>60</td>\n",
       "      <td>61</td>\n",
       "      <td>62</td>\n",
       "      <td>63</td>\n",
       "      <td>64</td>\n",
       "      <td>65</td>\n",
       "      <td>66</td>\n",
       "      <td>67</td>\n",
       "      <td>68</td>\n",
       "    </tr>\n",
       "    <tr>\n",
       "      <th>7</th>\n",
       "      <td>70</td>\n",
       "      <td>71</td>\n",
       "      <td>72</td>\n",
       "      <td>73</td>\n",
       "      <td>74</td>\n",
       "      <td>75</td>\n",
       "      <td>76</td>\n",
       "      <td>77</td>\n",
       "      <td>78</td>\n",
       "    </tr>\n",
       "    <tr>\n",
       "      <th>8</th>\n",
       "      <td>80</td>\n",
       "      <td>81</td>\n",
       "      <td>82</td>\n",
       "      <td>83</td>\n",
       "      <td>84</td>\n",
       "      <td>85</td>\n",
       "      <td>86</td>\n",
       "      <td>87</td>\n",
       "      <td>88</td>\n",
       "    </tr>\n",
       "    <tr>\n",
       "      <th>9</th>\n",
       "      <td>90</td>\n",
       "      <td>91</td>\n",
       "      <td>92</td>\n",
       "      <td>93</td>\n",
       "      <td>94</td>\n",
       "      <td>95</td>\n",
       "      <td>96</td>\n",
       "      <td>97</td>\n",
       "      <td>98</td>\n",
       "    </tr>\n",
       "  </tbody>\n",
       "</table>\n",
       "</div>"
      ],
      "text/plain": [
       "   c1  c2  c3  c4  c5  c6  c7  c8  c9\n",
       "0   0   1   2   3   4   5   6   7   8\n",
       "1  10  11  12  13  14  15  16  17  18\n",
       "2  20  21  22  23  24  25  26  27  28\n",
       "3  30  31  32  33  34  35  36  37  38\n",
       "4  40  41  42  43  44  45  46  47  48\n",
       "5  50  51  52  53  54  55  56  57  58\n",
       "6  60  61  62  63  64  65  66  67  68\n",
       "7  70  71  72  73  74  75  76  77  78\n",
       "8  80  81  82  83  84  85  86  87  88\n",
       "9  90  91  92  93  94  95  96  97  98"
      ]
     },
     "execution_count": 47,
     "metadata": {},
     "output_type": "execute_result"
    }
   ],
   "source": [
    "x"
   ]
  },
  {
   "cell_type": "code",
   "execution_count": 48,
   "id": "3ae3363d-c2b0-4ffb-a10c-80e534848e58",
   "metadata": {},
   "outputs": [
    {
     "data": {
      "text/plain": [
       "0     9\n",
       "1    19\n",
       "2    29\n",
       "3    39\n",
       "4    49\n",
       "5    59\n",
       "6    69\n",
       "7    79\n",
       "8    89\n",
       "9    99\n",
       "Name: c10, dtype: int32"
      ]
     },
     "execution_count": 48,
     "metadata": {},
     "output_type": "execute_result"
    }
   ],
   "source": [
    "y=data[\"c10\"]\n",
    "y"
   ]
  },
  {
   "cell_type": "code",
   "execution_count": 49,
   "id": "b490610f-0914-4c20-8a48-0466a9426570",
   "metadata": {},
   "outputs": [],
   "source": [
    "from sklearn.model_selection import train_test_split"
   ]
  },
  {
   "cell_type": "code",
   "execution_count": 50,
   "id": "97c7e58b-3794-49b3-8d3c-568b96ef8d85",
   "metadata": {},
   "outputs": [],
   "source": [
    "X_train,X_test,y_train,y_test=train_test_split(x,y,test_size=.2,random_state=42)"
   ]
  },
  {
   "cell_type": "code",
   "execution_count": 51,
   "id": "f889a577-9df4-49ac-99cb-bec855337bde",
   "metadata": {},
   "outputs": [],
   "source": [
    "from sklearn.linear_model import LinearRegression"
   ]
  },
  {
   "cell_type": "code",
   "execution_count": 52,
   "id": "6a10025f-8eb7-4dec-8a41-19586b0ca009",
   "metadata": {},
   "outputs": [],
   "source": [
    "model=LinearRegression()"
   ]
  },
  {
   "cell_type": "code",
   "execution_count": 53,
   "id": "0b6b3160-c94c-4f8f-94e6-7917816b4fa2",
   "metadata": {},
   "outputs": [
    {
     "data": {
      "text/html": [
       "<style>#sk-container-id-5 {color: black;}#sk-container-id-5 pre{padding: 0;}#sk-container-id-5 div.sk-toggleable {background-color: white;}#sk-container-id-5 label.sk-toggleable__label {cursor: pointer;display: block;width: 100%;margin-bottom: 0;padding: 0.3em;box-sizing: border-box;text-align: center;}#sk-container-id-5 label.sk-toggleable__label-arrow:before {content: \"▸\";float: left;margin-right: 0.25em;color: #696969;}#sk-container-id-5 label.sk-toggleable__label-arrow:hover:before {color: black;}#sk-container-id-5 div.sk-estimator:hover label.sk-toggleable__label-arrow:before {color: black;}#sk-container-id-5 div.sk-toggleable__content {max-height: 0;max-width: 0;overflow: hidden;text-align: left;background-color: #f0f8ff;}#sk-container-id-5 div.sk-toggleable__content pre {margin: 0.2em;color: black;border-radius: 0.25em;background-color: #f0f8ff;}#sk-container-id-5 input.sk-toggleable__control:checked~div.sk-toggleable__content {max-height: 200px;max-width: 100%;overflow: auto;}#sk-container-id-5 input.sk-toggleable__control:checked~label.sk-toggleable__label-arrow:before {content: \"▾\";}#sk-container-id-5 div.sk-estimator input.sk-toggleable__control:checked~label.sk-toggleable__label {background-color: #d4ebff;}#sk-container-id-5 div.sk-label input.sk-toggleable__control:checked~label.sk-toggleable__label {background-color: #d4ebff;}#sk-container-id-5 input.sk-hidden--visually {border: 0;clip: rect(1px 1px 1px 1px);clip: rect(1px, 1px, 1px, 1px);height: 1px;margin: -1px;overflow: hidden;padding: 0;position: absolute;width: 1px;}#sk-container-id-5 div.sk-estimator {font-family: monospace;background-color: #f0f8ff;border: 1px dotted black;border-radius: 0.25em;box-sizing: border-box;margin-bottom: 0.5em;}#sk-container-id-5 div.sk-estimator:hover {background-color: #d4ebff;}#sk-container-id-5 div.sk-parallel-item::after {content: \"\";width: 100%;border-bottom: 1px solid gray;flex-grow: 1;}#sk-container-id-5 div.sk-label:hover label.sk-toggleable__label {background-color: #d4ebff;}#sk-container-id-5 div.sk-serial::before {content: \"\";position: absolute;border-left: 1px solid gray;box-sizing: border-box;top: 0;bottom: 0;left: 50%;z-index: 0;}#sk-container-id-5 div.sk-serial {display: flex;flex-direction: column;align-items: center;background-color: white;padding-right: 0.2em;padding-left: 0.2em;position: relative;}#sk-container-id-5 div.sk-item {position: relative;z-index: 1;}#sk-container-id-5 div.sk-parallel {display: flex;align-items: stretch;justify-content: center;background-color: white;position: relative;}#sk-container-id-5 div.sk-item::before, #sk-container-id-5 div.sk-parallel-item::before {content: \"\";position: absolute;border-left: 1px solid gray;box-sizing: border-box;top: 0;bottom: 0;left: 50%;z-index: -1;}#sk-container-id-5 div.sk-parallel-item {display: flex;flex-direction: column;z-index: 1;position: relative;background-color: white;}#sk-container-id-5 div.sk-parallel-item:first-child::after {align-self: flex-end;width: 50%;}#sk-container-id-5 div.sk-parallel-item:last-child::after {align-self: flex-start;width: 50%;}#sk-container-id-5 div.sk-parallel-item:only-child::after {width: 0;}#sk-container-id-5 div.sk-dashed-wrapped {border: 1px dashed gray;margin: 0 0.4em 0.5em 0.4em;box-sizing: border-box;padding-bottom: 0.4em;background-color: white;}#sk-container-id-5 div.sk-label label {font-family: monospace;font-weight: bold;display: inline-block;line-height: 1.2em;}#sk-container-id-5 div.sk-label-container {text-align: center;}#sk-container-id-5 div.sk-container {/* jupyter's `normalize.less` sets `[hidden] { display: none; }` but bootstrap.min.css set `[hidden] { display: none !important; }` so we also need the `!important` here to be able to override the default hidden behavior on the sphinx rendered scikit-learn.org. See: https://github.com/scikit-learn/scikit-learn/issues/21755 */display: inline-block !important;position: relative;}#sk-container-id-5 div.sk-text-repr-fallback {display: none;}</style><div id=\"sk-container-id-5\" class=\"sk-top-container\"><div class=\"sk-text-repr-fallback\"><pre>LinearRegression()</pre><b>In a Jupyter environment, please rerun this cell to show the HTML representation or trust the notebook. <br />On GitHub, the HTML representation is unable to render, please try loading this page with nbviewer.org.</b></div><div class=\"sk-container\" hidden><div class=\"sk-item\"><div class=\"sk-estimator sk-toggleable\"><input class=\"sk-toggleable__control sk-hidden--visually\" id=\"sk-estimator-id-5\" type=\"checkbox\" checked><label for=\"sk-estimator-id-5\" class=\"sk-toggleable__label sk-toggleable__label-arrow\">LinearRegression</label><div class=\"sk-toggleable__content\"><pre>LinearRegression()</pre></div></div></div></div></div>"
      ],
      "text/plain": [
       "LinearRegression()"
      ]
     },
     "execution_count": 53,
     "metadata": {},
     "output_type": "execute_result"
    }
   ],
   "source": [
    "model.fit(X_train,y_train)"
   ]
  },
  {
   "cell_type": "code",
   "execution_count": 54,
   "id": "b253946e-55aa-4035-b986-b382a8899a16",
   "metadata": {},
   "outputs": [],
   "source": [
    "y_pred=model.predict(X_test)"
   ]
  },
  {
   "cell_type": "code",
   "execution_count": 55,
   "id": "98d6d05f-79cb-43ab-8221-f9fc75130246",
   "metadata": {},
   "outputs": [],
   "source": [
    "from sklearn.metrics import mean_absolute_error,r2_score"
   ]
  },
  {
   "cell_type": "code",
   "execution_count": 56,
   "id": "3db825a9-1c39-4616-93dc-523965927ef8",
   "metadata": {},
   "outputs": [
    {
     "name": "stdout",
     "output_type": "stream",
     "text": [
      "mae= 3.552713678800501e-15\n"
     ]
    }
   ],
   "source": [
    "print(\"mae=\",mean_absolute_error(y_test,y_pred))"
   ]
  },
  {
   "cell_type": "code",
   "execution_count": 57,
   "id": "3d36a51a-8425-4afa-b553-671ad571b7f8",
   "metadata": {},
   "outputs": [
    {
     "name": "stdout",
     "output_type": "stream",
     "text": [
      "R2 = 1.0\n"
     ]
    }
   ],
   "source": [
    "print(\"R2 =\",r2_score(y_test,y_pred))"
   ]
  },
  {
   "cell_type": "markdown",
   "id": "0beb4103-133d-4ba3-a4b5-803d8417dbd4",
   "metadata": {},
   "source": [
    "## POLYNOMIAL "
   ]
  },
  {
   "cell_type": "code",
   "execution_count": 70,
   "id": "f762fe43-3051-48ae-b637-382fd4839d59",
   "metadata": {},
   "outputs": [],
   "source": [
    "X =3 * np.random.rand(100,1)"
   ]
  },
  {
   "cell_type": "code",
   "execution_count": 59,
   "id": "15254fc1-ad59-4ac9-83cd-561ca515fcec",
   "metadata": {},
   "outputs": [
    {
     "data": {
      "text/plain": [
       "array([[2.91002872],\n",
       "       [2.19826954],\n",
       "       [0.03454505],\n",
       "       [2.52636994],\n",
       "       [1.8398497 ],\n",
       "       [2.45952502],\n",
       "       [2.50534745],\n",
       "       [0.46921429],\n",
       "       [1.48964214],\n",
       "       [0.63513235],\n",
       "       [2.96736755],\n",
       "       [1.64208279],\n",
       "       [0.61618205],\n",
       "       [1.22189193],\n",
       "       [1.49115201],\n",
       "       [2.95807565],\n",
       "       [0.72961039],\n",
       "       [2.17817481],\n",
       "       [1.20808282],\n",
       "       [2.24987854],\n",
       "       [1.18834117],\n",
       "       [0.25764064],\n",
       "       [1.49345027],\n",
       "       [2.47050236],\n",
       "       [1.10334336],\n",
       "       [0.21307613],\n",
       "       [2.32436149],\n",
       "       [1.58654039],\n",
       "       [1.3750009 ],\n",
       "       [0.5076697 ],\n",
       "       [0.55457548],\n",
       "       [0.20541251],\n",
       "       [0.57175324],\n",
       "       [0.72427847],\n",
       "       [1.74236352],\n",
       "       [0.39685336],\n",
       "       [1.45220184],\n",
       "       [2.91903571],\n",
       "       [1.52177786],\n",
       "       [2.83974159],\n",
       "       [0.82459164],\n",
       "       [1.29132903],\n",
       "       [0.53544843],\n",
       "       [0.18725106],\n",
       "       [0.6197717 ],\n",
       "       [2.76618198],\n",
       "       [2.29434285],\n",
       "       [2.31715736],\n",
       "       [0.56663957],\n",
       "       [1.2272176 ],\n",
       "       [2.63657884],\n",
       "       [0.83278309],\n",
       "       [2.20073826],\n",
       "       [1.01059059],\n",
       "       [1.96920129],\n",
       "       [0.27935117],\n",
       "       [2.26919454],\n",
       "       [0.01000849],\n",
       "       [1.16935818],\n",
       "       [1.42816004],\n",
       "       [1.86665386],\n",
       "       [0.9778061 ],\n",
       "       [0.77406832],\n",
       "       [2.2089696 ],\n",
       "       [2.40596435],\n",
       "       [1.48458951],\n",
       "       [1.96236308],\n",
       "       [1.6472548 ],\n",
       "       [2.36968842],\n",
       "       [1.6120907 ],\n",
       "       [0.51775726],\n",
       "       [1.74432026],\n",
       "       [2.30275929],\n",
       "       [1.35783469],\n",
       "       [2.8311489 ],\n",
       "       [2.98428299],\n",
       "       [2.91294151],\n",
       "       [0.46204847],\n",
       "       [0.30990695],\n",
       "       [0.47828709],\n",
       "       [1.8637754 ],\n",
       "       [1.19546497],\n",
       "       [0.7664452 ],\n",
       "       [0.58859524],\n",
       "       [2.47264104],\n",
       "       [0.61211885],\n",
       "       [1.37737055],\n",
       "       [0.77537838],\n",
       "       [2.40938072],\n",
       "       [2.79392371],\n",
       "       [2.27777189],\n",
       "       [0.85371812],\n",
       "       [0.52178522],\n",
       "       [2.23653207],\n",
       "       [0.57125261],\n",
       "       [2.67480532],\n",
       "       [0.66464959],\n",
       "       [2.12756198],\n",
       "       [2.92828586],\n",
       "       [0.07265831]])"
      ]
     },
     "execution_count": 59,
     "metadata": {},
     "output_type": "execute_result"
    }
   ],
   "source": [
    "X"
   ]
  },
  {
   "cell_type": "code",
   "execution_count": 74,
   "id": "e033b14a-b0ff-49e3-a262-a5c7d3f7a826",
   "metadata": {},
   "outputs": [
    {
     "data": {
      "text/plain": [
       "array([[11.8109778 ],\n",
       "       [23.96034712],\n",
       "       [ 7.78570429],\n",
       "       [ 5.20316303],\n",
       "       [21.86054953],\n",
       "       [20.85874266],\n",
       "       [26.65878055],\n",
       "       [10.71441967],\n",
       "       [ 4.57429934],\n",
       "       [21.36547647],\n",
       "       [24.56892023],\n",
       "       [ 4.71361581],\n",
       "       [11.76950112],\n",
       "       [ 9.58578067],\n",
       "       [ 4.07677382],\n",
       "       [ 7.70502902],\n",
       "       [11.78292655],\n",
       "       [ 3.82241697],\n",
       "       [13.79029466],\n",
       "       [14.99745753],\n",
       "       [ 9.41086231],\n",
       "       [ 5.10003054],\n",
       "       [17.39207586],\n",
       "       [ 5.6767812 ],\n",
       "       [23.50355211],\n",
       "       [19.0714091 ],\n",
       "       [ 8.67575761],\n",
       "       [ 7.61777926],\n",
       "       [21.47665884],\n",
       "       [24.71024999],\n",
       "       [ 8.74510204],\n",
       "       [ 8.05256259],\n",
       "       [ 9.67057301],\n",
       "       [ 6.95344118],\n",
       "       [ 3.81296756],\n",
       "       [23.6545785 ],\n",
       "       [ 5.88862774],\n",
       "       [ 5.80607451],\n",
       "       [22.46772465],\n",
       "       [20.07141348],\n",
       "       [13.60303449],\n",
       "       [ 4.69697006],\n",
       "       [18.37039874],\n",
       "       [16.25781396],\n",
       "       [22.72280852],\n",
       "       [16.38531056],\n",
       "       [12.37974433],\n",
       "       [11.91807243],\n",
       "       [ 5.00907518],\n",
       "       [ 4.92416773],\n",
       "       [21.34255217],\n",
       "       [ 5.10890507],\n",
       "       [ 9.36702143],\n",
       "       [ 7.48444125],\n",
       "       [14.37852258],\n",
       "       [10.22392593],\n",
       "       [16.71914977],\n",
       "       [ 8.55040518],\n",
       "       [12.58458133],\n",
       "       [19.1137019 ],\n",
       "       [ 6.39691622],\n",
       "       [ 7.31376119],\n",
       "       [ 4.2522829 ],\n",
       "       [25.50090402],\n",
       "       [21.64738033],\n",
       "       [13.39424012],\n",
       "       [11.36112301],\n",
       "       [15.87787065],\n",
       "       [22.83550891],\n",
       "       [17.09111243],\n",
       "       [20.48962194],\n",
       "       [ 7.75481721],\n",
       "       [20.67418281],\n",
       "       [16.31597861],\n",
       "       [ 8.62106927],\n",
       "       [24.62424274],\n",
       "       [16.3848783 ],\n",
       "       [ 3.38256721],\n",
       "       [15.19075216],\n",
       "       [ 4.75410274],\n",
       "       [11.60823612],\n",
       "       [21.94193397],\n",
       "       [20.58512251],\n",
       "       [15.14429731],\n",
       "       [11.61726436],\n",
       "       [11.66330306],\n",
       "       [ 8.63879907],\n",
       "       [18.61168617],\n",
       "       [16.62585264],\n",
       "       [ 6.03650902],\n",
       "       [25.30246572],\n",
       "       [14.23225415],\n",
       "       [12.79779281],\n",
       "       [ 6.32509835],\n",
       "       [12.85003718],\n",
       "       [19.54541438],\n",
       "       [18.23666015],\n",
       "       [ 4.57060032],\n",
       "       [ 6.16806405],\n",
       "       [ 6.6293057 ]])"
      ]
     },
     "execution_count": 74,
     "metadata": {},
     "output_type": "execute_result"
    }
   ],
   "source": [
    "y = 2 * (X ** 2)+1.5*X+4 + np.random.randn(100,1)\n",
    "y"
   ]
  },
  {
   "cell_type": "code",
   "execution_count": 72,
   "id": "35f96e6e-c719-47fc-8da1-9779be6ebb9b",
   "metadata": {},
   "outputs": [
    {
     "data": {
      "text/plain": [
       "<matplotlib.collections.PathCollection at 0x2a31f14aa40>"
      ]
     },
     "execution_count": 72,
     "metadata": {},
     "output_type": "execute_result"
    },
    {
     "data": {
      "image/png": "[encoded data removed]",
      "text/plain": [
       "<Figure size 640x480 with 1 Axes>"
      ]
     },
     "metadata": {},
     "output_type": "display_data"
    }
   ],
   "source": [
    "plt.scatter(X,y,color=\"g\")"
   ]
  },
  {
   "cell_type": "code",
   "execution_count": 73,
   "id": "9ae8da9f-d9f7-4b1e-bf23-11d7cb2979b3",
   "metadata": {},
   "outputs": [],
   "source": [
    "from sklearn.model_selection import train_test_split\n",
    "X_train,X_test,y_train,y_test=train_test_split(X,y,test_size=.2,random_state=42)"
   ]
  },
  {
   "cell_type": "code",
   "execution_count": 63,
   "id": "0cec65ca-70b2-480c-881d-c8c9f43d79be",
   "metadata": {},
   "outputs": [],
   "source": [
    "from sklearn.preprocessing import PolynomialFeatures"
   ]
  },
  {
   "cell_type": "code",
   "execution_count": 64,
   "id": "f746c898-426a-4264-9ec0-d79a83965743",
   "metadata": {},
   "outputs": [],
   "source": [
    "poly=PolynomialFeatures(degree=2)"
   ]
  },
  {
   "cell_type": "code",
   "execution_count": 65,
   "id": "5fa15faf-a366-4ef1-9454-3d105999d965",
   "metadata": {},
   "outputs": [],
   "source": [
    "X_train_poly=poly.fit_transform(X_train)\n",
    "X_test_poly=poly.transform(X_test)"
   ]
  },
  {
   "cell_type": "code",
   "execution_count": 66,
   "id": "6ef39137-c9ba-41a2-a171-daa9e532887d",
   "metadata": {},
   "outputs": [],
   "source": [
    "from sklearn.linear_model import LinearRegression\n",
    "model=LinearRegression()"
   ]
  },
  {
   "cell_type": "code",
   "execution_count": 67,
   "id": "82876714-464a-4e35-bf51-6ab2456966f1",
   "metadata": {},
   "outputs": [
    {
     "data": {
      "text/html": [
       "<style>#sk-container-id-6 {color: black;}#sk-container-id-6 pre{padding: 0;}#sk-container-id-6 div.sk-toggleable {background-color: white;}#sk-container-id-6 label.sk-toggleable__label {cursor: pointer;display: block;width: 100%;margin-bottom: 0;padding: 0.3em;box-sizing: border-box;text-align: center;}#sk-container-id-6 label.sk-toggleable__label-arrow:before {content: \"▸\";float: left;margin-right: 0.25em;color: #696969;}#sk-container-id-6 label.sk-toggleable__label-arrow:hover:before {color: black;}#sk-container-id-6 div.sk-estimator:hover label.sk-toggleable__label-arrow:before {color: black;}#sk-container-id-6 div.sk-toggleable__content {max-height: 0;max-width: 0;overflow: hidden;text-align: left;background-color: #f0f8ff;}#sk-container-id-6 div.sk-toggleable__content pre {margin: 0.2em;color: black;border-radius: 0.25em;background-color: #f0f8ff;}#sk-container-id-6 input.sk-toggleable__control:checked~div.sk-toggleable__content {max-height: 200px;max-width: 100%;overflow: auto;}#sk-container-id-6 input.sk-toggleable__control:checked~label.sk-toggleable__label-arrow:before {content: \"▾\";}#sk-container-id-6 div.sk-estimator input.sk-toggleable__control:checked~label.sk-toggleable__label {background-color: #d4ebff;}#sk-container-id-6 div.sk-label input.sk-toggleable__control:checked~label.sk-toggleable__label {background-color: #d4ebff;}#sk-container-id-6 input.sk-hidden--visually {border: 0;clip: rect(1px 1px 1px 1px);clip: rect(1px, 1px, 1px, 1px);height: 1px;margin: -1px;overflow: hidden;padding: 0;position: absolute;width: 1px;}#sk-container-id-6 div.sk-estimator {font-family: monospace;background-color: #f0f8ff;border: 1px dotted black;border-radius: 0.25em;box-sizing: border-box;margin-bottom: 0.5em;}#sk-container-id-6 div.sk-estimator:hover {background-color: #d4ebff;}#sk-container-id-6 div.sk-parallel-item::after {content: \"\";width: 100%;border-bottom: 1px solid gray;flex-grow: 1;}#sk-container-id-6 div.sk-label:hover label.sk-toggleable__label {background-color: #d4ebff;}#sk-container-id-6 div.sk-serial::before {content: \"\";position: absolute;border-left: 1px solid gray;box-sizing: border-box;top: 0;bottom: 0;left: 50%;z-index: 0;}#sk-container-id-6 div.sk-serial {display: flex;flex-direction: column;align-items: center;background-color: white;padding-right: 0.2em;padding-left: 0.2em;position: relative;}#sk-container-id-6 div.sk-item {position: relative;z-index: 1;}#sk-container-id-6 div.sk-parallel {display: flex;align-items: stretch;justify-content: center;background-color: white;position: relative;}#sk-container-id-6 div.sk-item::before, #sk-container-id-6 div.sk-parallel-item::before {content: \"\";position: absolute;border-left: 1px solid gray;box-sizing: border-box;top: 0;bottom: 0;left: 50%;z-index: -1;}#sk-container-id-6 div.sk-parallel-item {display: flex;flex-direction: column;z-index: 1;position: relative;background-color: white;}#sk-container-id-6 div.sk-parallel-item:first-child::after {align-self: flex-end;width: 50%;}#sk-container-id-6 div.sk-parallel-item:last-child::after {align-self: flex-start;width: 50%;}#sk-container-id-6 div.sk-parallel-item:only-child::after {width: 0;}#sk-container-id-6 div.sk-dashed-wrapped {border: 1px dashed gray;margin: 0 0.4em 0.5em 0.4em;box-sizing: border-box;padding-bottom: 0.4em;background-color: white;}#sk-container-id-6 div.sk-label label {font-family: monospace;font-weight: bold;display: inline-block;line-height: 1.2em;}#sk-container-id-6 div.sk-label-container {text-align: center;}#sk-container-id-6 div.sk-container {/* jupyter's `normalize.less` sets `[hidden] { display: none; }` but bootstrap.min.css set `[hidden] { display: none !important; }` so we also need the `!important` here to be able to override the default hidden behavior on the sphinx rendered scikit-learn.org. See: https://github.com/scikit-learn/scikit-learn/issues/21755 */display: inline-block !important;position: relative;}#sk-container-id-6 div.sk-text-repr-fallback {display: none;}</style><div id=\"sk-container-id-6\" class=\"sk-top-container\"><div class=\"sk-text-repr-fallback\"><pre>LinearRegression()</pre><b>In a Jupyter environment, please rerun this cell to show the HTML representation or trust the notebook. <br />On GitHub, the HTML representation is unable to render, please try loading this page with nbviewer.org.</b></div><div class=\"sk-container\" hidden><div class=\"sk-item\"><div class=\"sk-estimator sk-toggleable\"><input class=\"sk-toggleable__control sk-hidden--visually\" id=\"sk-estimator-id-6\" type=\"checkbox\" checked><label for=\"sk-estimator-id-6\" class=\"sk-toggleable__label sk-toggleable__label-arrow\">LinearRegression</label><div class=\"sk-toggleable__content\"><pre>LinearRegression()</pre></div></div></div></div></div>"
      ],
      "text/plain": [
       "LinearRegression()"
      ]
     },
     "execution_count": 67,
     "metadata": {},
     "output_type": "execute_result"
    }
   ],
   "source": [
    "model.fit(X_train_poly,y_train)"
   ]
  },
  {
   "cell_type": "code",
   "execution_count": 68,
   "id": "0f179e9b-0e21-430a-96a9-e91b5313576f",
   "metadata": {},
   "outputs": [],
   "source": [
    "y_pred=model.predict(X_test_poly)"
   ]
  },
  {
   "cell_type": "code",
   "execution_count": 69,
   "id": "564f6a2d-fccc-4156-9af8-231553ebef07",
   "metadata": {},
   "outputs": [
    {
     "name": "stdout",
     "output_type": "stream",
     "text": [
      "r2= 0.9860976176400821\n"
     ]
    }
   ],
   "source": [
    "print(\"r2=\",r2_score(y_test,y_pred))"
   ]
  },
  {
   "cell_type": "code",
   "execution_count": 75,
   "id": "3eee9647-ae7f-4268-a648-bda759de5b7c",
   "metadata": {},
   "outputs": [],
   "source": [
    "import numpy as np\n",
    "import matplotlib.pyplot as plt\n",
    "from sklearn.cluster import KMeans"
   ]
  },
  {
   "cell_type": "code",
   "execution_count": 77,
   "id": "236aa3e2-caf0-47bb-80c1-f46e5044faa4",
   "metadata": {},
   "outputs": [
    {
     "data": {
      "text/plain": [
       "array([[5.90751639, 7.58729327],\n",
       "       [2.05064431, 4.13258265],\n",
       "       [1.85149884, 2.77427986],\n",
       "       [9.55233141, 0.77249841],\n",
       "       [3.2105385 , 6.90222216],\n",
       "       [1.94289823, 4.09114779],\n",
       "       [9.78523797, 5.74539982],\n",
       "       [0.68242824, 2.69186925],\n",
       "       [2.36705169, 4.64717909],\n",
       "       [4.81021999, 5.16567491],\n",
       "       [1.87556791, 0.81322785],\n",
       "       [1.33662173, 7.84261709],\n",
       "       [5.12326036, 2.77615587],\n",
       "       [6.0972065 , 2.41835795],\n",
       "       [9.16088838, 1.34110474],\n",
       "       [9.90189169, 3.46271281],\n",
       "       [8.74429983, 9.44479426],\n",
       "       [1.3853971 , 8.6786239 ],\n",
       "       [4.23568836, 8.96653212],\n",
       "       [9.22181628, 9.10283443],\n",
       "       [6.79377779, 8.52827377],\n",
       "       [1.29000277, 7.48708859],\n",
       "       [8.98644715, 8.91904623],\n",
       "       [6.14960293, 4.04148123],\n",
       "       [3.28572086, 8.86876553],\n",
       "       [2.76900592, 7.59806594],\n",
       "       [0.62898381, 0.30835585],\n",
       "       [7.8911567 , 6.58594406],\n",
       "       [6.81389725, 2.51771322],\n",
       "       [5.45238763, 8.19652539],\n",
       "       [1.89733898, 5.05996003],\n",
       "       [2.34758639, 9.96095194],\n",
       "       [1.27023989, 1.6347702 ],\n",
       "       [5.82962626, 4.76622836],\n",
       "       [2.10624746, 9.08024334],\n",
       "       [8.13074616, 3.52956604],\n",
       "       [5.79962456, 5.54605706],\n",
       "       [0.76353465, 8.52696025],\n",
       "       [9.84917658, 8.60434233],\n",
       "       [5.48566621, 5.85509687],\n",
       "       [6.86700513, 3.79757576],\n",
       "       [2.81732246, 2.60918757],\n",
       "       [2.60671171, 2.69512795],\n",
       "       [0.42611028, 1.27032753],\n",
       "       [1.27481406, 3.68106919],\n",
       "       [9.06297517, 1.59560989],\n",
       "       [7.60985219, 7.69746519],\n",
       "       [3.74773993, 1.92288214],\n",
       "       [5.60780097, 1.89728276],\n",
       "       [9.71451136, 6.20977797],\n",
       "       [4.08975956, 3.78037289],\n",
       "       [4.87526752, 6.38641644],\n",
       "       [5.96862021, 4.94193703],\n",
       "       [6.64585884, 9.40914596],\n",
       "       [2.85461412, 3.11102992],\n",
       "       [2.92870596, 0.20699776],\n",
       "       [2.8573151 , 4.8304342 ],\n",
       "       [9.42900666, 0.15509847],\n",
       "       [4.2852113 , 3.86037493],\n",
       "       [2.15217408, 2.88550971],\n",
       "       [5.06654456, 8.14298552],\n",
       "       [3.79745101, 2.41435549],\n",
       "       [8.66640459, 8.27033343],\n",
       "       [5.61393307, 7.28377478],\n",
       "       [2.77349912, 0.60318741],\n",
       "       [6.52009865, 1.42902298],\n",
       "       [6.24601021, 1.52275696],\n",
       "       [7.85182761, 2.17849307],\n",
       "       [6.15295027, 8.41016213],\n",
       "       [8.48686218, 1.41533042],\n",
       "       [7.39044885, 0.59255975],\n",
       "       [5.73909504, 2.10907585],\n",
       "       [9.46157189, 2.36987612],\n",
       "       [9.87302309, 6.94831265],\n",
       "       [3.54347327, 9.50234021],\n",
       "       [2.4684358 , 5.47182058],\n",
       "       [1.34920819, 6.40633653],\n",
       "       [3.41706639, 4.18874335],\n",
       "       [8.01489218, 0.47233067],\n",
       "       [0.72327144, 6.63728805],\n",
       "       [9.36579197, 4.35954188],\n",
       "       [5.21653753, 7.56247302],\n",
       "       [4.9295522 , 0.60165448],\n",
       "       [6.95489949, 8.01881895],\n",
       "       [7.60003324, 6.61783194],\n",
       "       [9.64025779, 1.49418228],\n",
       "       [0.78801215, 5.3462871 ],\n",
       "       [3.84631856, 4.28520087],\n",
       "       [7.75742543, 3.53806492],\n",
       "       [0.54671274, 4.80745744],\n",
       "       [7.95011167, 8.64738432],\n",
       "       [4.3069566 , 4.37805467],\n",
       "       [6.17601252, 3.36714172],\n",
       "       [7.63197456, 8.35279859],\n",
       "       [5.32666689, 3.7890749 ],\n",
       "       [5.12868304, 8.00680958],\n",
       "       [0.3519327 , 9.23102771],\n",
       "       [1.81639689, 3.95389537],\n",
       "       [7.90944812, 4.09194795],\n",
       "       [5.17228379, 2.26732547],\n",
       "       [8.08047685, 2.14145735],\n",
       "       [4.65789422, 6.65089829],\n",
       "       [7.55760534, 7.89111352],\n",
       "       [2.82091817, 7.42937068],\n",
       "       [3.01204226, 9.61086354],\n",
       "       [7.723482  , 2.44684473],\n",
       "       [0.08865775, 5.01614634],\n",
       "       [9.88914255, 3.47802197],\n",
       "       [9.34158539, 3.38987628],\n",
       "       [4.11794004, 9.74295429],\n",
       "       [2.24530751, 3.82142889],\n",
       "       [1.58587224, 7.99447185],\n",
       "       [1.75812427, 1.57609246],\n",
       "       [3.96072801, 5.65168583],\n",
       "       [7.59988864, 0.96938756],\n",
       "       [5.97071534, 7.01453029],\n",
       "       [9.86539309, 1.73810516],\n",
       "       [9.56592189, 3.24651241],\n",
       "       [7.92214709, 8.94893021],\n",
       "       [2.50511688, 3.98252527],\n",
       "       [4.34004702, 7.8059592 ],\n",
       "       [9.66992816, 6.91967014],\n",
       "       [2.71259854, 4.04790998],\n",
       "       [8.88210447, 9.79811785],\n",
       "       [8.83135241, 2.80155227],\n",
       "       [5.46868111, 0.37158176],\n",
       "       [2.63696513, 7.40299359],\n",
       "       [0.08076048, 8.80139221],\n",
       "       [6.35840567, 6.20515174],\n",
       "       [5.78036417, 5.85209418],\n",
       "       [5.35889351, 7.68000716],\n",
       "       [2.73515119, 8.08645206],\n",
       "       [4.43571102, 1.26766501],\n",
       "       [4.28306169, 6.34238083],\n",
       "       [8.89031477, 1.70430251],\n",
       "       [5.02964901, 1.40584242],\n",
       "       [0.75173451, 1.69754111],\n",
       "       [7.15009181, 2.57697911],\n",
       "       [6.62617601, 2.23012297],\n",
       "       [4.86371376, 9.42827897],\n",
       "       [6.10310645, 5.99423589],\n",
       "       [7.38373693, 8.51768091],\n",
       "       [2.48178149, 3.19239335],\n",
       "       [9.25130002, 8.89131879],\n",
       "       [3.24546682, 6.52303394],\n",
       "       [7.82215747, 6.48635059],\n",
       "       [9.50073324, 6.5136939 ],\n",
       "       [6.08498962, 2.5415124 ],\n",
       "       [6.48988026, 8.98813988],\n",
       "       [8.29372419, 3.34404702],\n",
       "       [0.15880021, 7.94318988],\n",
       "       [4.40863653, 2.73055907],\n",
       "       [1.95161987, 5.11266591],\n",
       "       [4.42884189, 6.87109407],\n",
       "       [3.03140332, 6.55677666],\n",
       "       [4.12409564, 9.98320171],\n",
       "       [3.34709883, 8.27381736],\n",
       "       [7.7168176 , 3.66693673],\n",
       "       [2.61222349, 1.29678253],\n",
       "       [0.65688387, 1.60161577],\n",
       "       [9.66540937, 0.6018358 ],\n",
       "       [1.36578391, 4.46801173],\n",
       "       [1.29948755, 6.8411136 ],\n",
       "       [9.00440819, 0.41809954],\n",
       "       [4.31444347, 4.43061639],\n",
       "       [8.18692795, 4.48535467],\n",
       "       [6.01416426, 2.38062739],\n",
       "       [7.30398523, 1.17700716],\n",
       "       [5.2024057 , 9.73807064],\n",
       "       [9.61007463, 5.04148489],\n",
       "       [9.81741359, 1.79584745],\n",
       "       [8.40017397, 8.58977705],\n",
       "       [7.11450713, 2.98003747],\n",
       "       [8.82620041, 7.5028056 ],\n",
       "       [1.84712815, 7.14123707],\n",
       "       [4.2063376 , 2.21003474],\n",
       "       [4.14085347, 8.42685221],\n",
       "       [9.11492061, 3.59117995],\n",
       "       [9.40141495, 0.60845144],\n",
       "       [7.944252  , 8.22862729],\n",
       "       [9.84533274, 9.41018616],\n",
       "       [2.00064656, 9.89347859],\n",
       "       [1.49254863, 5.23645363],\n",
       "       [5.59230855, 6.64426416],\n",
       "       [4.87187219, 5.99588133],\n",
       "       [5.29783587, 9.15744183],\n",
       "       [3.7248696 , 5.61130852],\n",
       "       [9.48451165, 1.79370733],\n",
       "       [0.22332105, 4.81258677],\n",
       "       [0.81923586, 8.95991004],\n",
       "       [3.31343883, 9.86707581],\n",
       "       [5.97037731, 7.69000678],\n",
       "       [1.90765219, 2.2325919 ],\n",
       "       [6.3859578 , 3.7974529 ],\n",
       "       [5.88246238, 6.18805951],\n",
       "       [5.31669113, 8.21243438],\n",
       "       [7.23365342, 2.34063823],\n",
       "       [8.84537261, 6.89731641],\n",
       "       [5.32687403, 4.55599927],\n",
       "       [7.66528666, 2.01378084],\n",
       "       [4.37368607, 1.79757599],\n",
       "       [6.92373923, 8.96118281],\n",
       "       [6.74062492, 9.19511128],\n",
       "       [0.76481033, 9.1812976 ],\n",
       "       [4.92924317, 9.80902505],\n",
       "       [5.86073758, 0.3246567 ],\n",
       "       [1.93828766, 2.33833829],\n",
       "       [0.69717134, 2.32543388],\n",
       "       [9.18165467, 8.22271568],\n",
       "       [7.75269183, 8.51960625],\n",
       "       [2.00124312, 7.74800712],\n",
       "       [3.20510747, 7.53435589],\n",
       "       [4.91773936, 8.01670318],\n",
       "       [7.47808967, 9.65433257],\n",
       "       [8.27896931, 1.76499088],\n",
       "       [4.94829658, 6.1300312 ],\n",
       "       [0.50516606, 6.16092319],\n",
       "       [5.52395624, 5.08251697],\n",
       "       [5.84969643, 6.01387445],\n",
       "       [2.05688319, 0.61360045],\n",
       "       [7.57202573, 4.63272895],\n",
       "       [0.82388119, 5.69475517],\n",
       "       [0.63369858, 0.20279505],\n",
       "       [1.25936274, 6.21613465],\n",
       "       [0.71191172, 4.06728046],\n",
       "       [1.38285922, 5.6579367 ],\n",
       "       [5.04652881, 6.78431643],\n",
       "       [2.13487139, 5.60222813],\n",
       "       [5.89787156, 6.84113464],\n",
       "       [9.26903892, 3.82769925],\n",
       "       [8.14338395, 1.57050328],\n",
       "       [5.71834515, 3.9302073 ],\n",
       "       [3.66810375, 2.79002884],\n",
       "       [7.94135061, 2.80958347],\n",
       "       [2.38000431, 6.66748485],\n",
       "       [0.21470429, 4.15839652],\n",
       "       [0.15745516, 4.93595575],\n",
       "       [9.41962883, 4.92170799],\n",
       "       [2.58865982, 7.00426852],\n",
       "       [1.1848243 , 0.74251633],\n",
       "       [9.44267179, 1.898315  ],\n",
       "       [2.67462971, 5.18612691],\n",
       "       [7.96378013, 4.57175937],\n",
       "       [6.86008543, 2.10282624],\n",
       "       [5.69310922, 3.76054841],\n",
       "       [9.92544412, 8.36843951],\n",
       "       [8.16423176, 1.41012942],\n",
       "       [9.07258353, 1.40023624],\n",
       "       [9.58505471, 6.68379472],\n",
       "       [5.99114702, 2.47452317],\n",
       "       [0.11091515, 5.33455609],\n",
       "       [8.00955968, 5.44072421],\n",
       "       [4.20858408, 4.01309869],\n",
       "       [9.0989367 , 2.77977352],\n",
       "       [6.2286313 , 1.94918305],\n",
       "       [8.64306953, 6.887301  ],\n",
       "       [2.33113546, 5.1018504 ],\n",
       "       [7.90425717, 8.10110466],\n",
       "       [7.80360674, 1.65368003],\n",
       "       [0.37719308, 5.34959522],\n",
       "       [9.41977176, 7.16480344],\n",
       "       [5.12205915, 1.67191611],\n",
       "       [5.32220951, 1.6200234 ],\n",
       "       [4.02298866, 8.37166735],\n",
       "       [8.05057295, 6.24246015],\n",
       "       [7.93035017, 1.66091004],\n",
       "       [0.62976908, 9.52425068],\n",
       "       [8.97721386, 2.59503234],\n",
       "       [2.2399647 , 4.39365351],\n",
       "       [0.8306144 , 2.64867342],\n",
       "       [8.25838096, 1.47334845],\n",
       "       [0.37032482, 1.99777604],\n",
       "       [7.68151945, 3.91930688],\n",
       "       [6.67295117, 9.21436445],\n",
       "       [7.4982529 , 8.74913952],\n",
       "       [6.38660609, 0.93577794],\n",
       "       [8.33680594, 8.36990815],\n",
       "       [8.82633026, 6.31705167],\n",
       "       [0.24532389, 4.43308991],\n",
       "       [7.58545846, 3.78921292],\n",
       "       [5.267699  , 5.09325604],\n",
       "       [5.04229575, 9.4466836 ],\n",
       "       [5.93840176, 2.02381329],\n",
       "       [2.41203694, 6.60359223],\n",
       "       [2.74965005, 1.31898955],\n",
       "       [9.05521703, 9.90055481],\n",
       "       [9.65738949, 3.90038027],\n",
       "       [9.7859765 , 8.12211178],\n",
       "       [8.34182369, 2.7419297 ],\n",
       "       [6.93504646, 7.4619663 ],\n",
       "       [8.03872209, 3.60642723],\n",
       "       [8.4128081 , 7.00952353],\n",
       "       [8.91821672, 6.1753334 ],\n",
       "       [0.40954867, 4.6248296 ],\n",
       "       [6.06596629, 0.99998366],\n",
       "       [5.79037443, 5.87115006],\n",
       "       [6.1716562 , 2.75578715],\n",
       "       [5.86582715, 1.53736553],\n",
       "       [4.8062546 , 8.98352592],\n",
       "       [2.34476687, 2.69290779]])"
      ]
     },
     "execution_count": 77,
     "metadata": {},
     "output_type": "execute_result"
    }
   ],
   "source": [
    "x=np.random.rand(300,2)*10\n",
    "x"
   ]
  },
  {
   "cell_type": "code",
   "execution_count": 80,
   "id": "13498fc9-d64b-4545-aea1-f7bc81fc5d24",
   "metadata": {},
   "outputs": [],
   "source": [
    "inertia=[]\n",
    "for k in range(1,15):\n",
    "    kmeans=KMeans(n_clusters=k,n_init=10)\n",
    "    kmeans.fit(x)\n",
    "    inertia.append(kmeans.inertia_)"
   ]
  },
  {
   "cell_type": "code",
   "execution_count": 81,
   "id": "ee18db2d-bc9d-4ff1-b886-c4ebc39449a2",
   "metadata": {},
   "outputs": [
    {
     "data": {
      "text/plain": [
       "[<matplotlib.lines.Line2D at 0x2a3250b27d0>]"
      ]
     },
     "execution_count": 81,
     "metadata": {},
     "output_type": "execute_result"
    },
    {
     "data": {
      "image/png": "[encoded data removed]",
      "text/plain": [
       "<Figure size 800x600 with 1 Axes>"
      ]
     },
     "metadata": {},
     "output_type": "display_data"
    }
   ],
   "source": [
    "plt.figure (figsize=(8,6))\n",
    "plt.plot(range(1,15),inertia)"
   ]
  },
  {
   "cell_type": "code",
   "execution_count": 83,
   "id": "10076615-6c50-4702-86aa-aaa7faa6886c",
   "metadata": {},
   "outputs": [
    {
     "data": {
      "text/plain": [
       "array([3, 2, 2, 1, 0, 2, 3, 2, 2, 0, 2, 0, 1, 1, 1, 1, 3, 0, 0, 3, 3, 0,\n",
       "       3, 1, 0, 0, 2, 3, 1, 0, 2, 0, 2, 1, 0, 1, 3, 0, 3, 3, 1, 2, 2, 2,\n",
       "       2, 1, 3, 2, 1, 3, 2, 0, 1, 3, 2, 2, 2, 1, 2, 2, 0, 2, 3, 3, 2, 1,\n",
       "       1, 1, 3, 1, 1, 1, 1, 3, 0, 2, 0, 2, 1, 0, 1, 0, 1, 3, 3, 1, 2, 2,\n",
       "       1, 2, 3, 2, 1, 3, 1, 0, 0, 2, 1, 1, 1, 0, 3, 0, 0, 1, 2, 1, 1, 0,\n",
       "       2, 0, 2, 0, 1, 3, 1, 1, 3, 2, 0, 3, 2, 3, 1, 1, 0, 0, 3, 3, 0, 0,\n",
       "       2, 0, 1, 1, 2, 1, 1, 0, 3, 3, 2, 3, 0, 3, 3, 1, 3, 1, 0, 2, 2, 0,\n",
       "       0, 0, 0, 1, 2, 2, 1, 2, 0, 1, 2, 1, 1, 1, 0, 3, 1, 3, 1, 3, 0, 2,\n",
       "       0, 1, 1, 3, 3, 0, 2, 3, 0, 0, 0, 1, 2, 0, 0, 3, 2, 1, 3, 0, 1, 3,\n",
       "       1, 1, 2, 3, 3, 0, 0, 1, 2, 2, 3, 3, 0, 0, 0, 3, 1, 0, 2, 1, 3, 2,\n",
       "       1, 2, 2, 0, 2, 2, 0, 2, 3, 1, 1, 1, 2, 1, 0, 2, 2, 1, 0, 2, 1, 2,\n",
       "       1, 1, 1, 3, 1, 1, 3, 1, 2, 3, 2, 1, 1, 3, 2, 3, 1, 2, 3, 1, 1, 0,\n",
       "       3, 1, 0, 1, 2, 2, 1, 2, 1, 3, 3, 1, 3, 3, 2, 1, 1, 0, 1, 0, 2, 3,\n",
       "       1, 3, 1, 3, 1, 3, 3, 2, 1, 3, 1, 1, 0, 2])"
      ]
     },
     "execution_count": 83,
     "metadata": {},
     "output_type": "execute_result"
    }
   ],
   "source": [
    "kmeans=KMeans(n_clusters=4,n_init=10)\n",
    "kmeans.fit_predict(x)"
   ]
  }
 ],
 "metadata": {
  "kernelspec": {
   "display_name": "Python 3 (ipykernel)",
   "language": "python",
   "name": "python3"
  },
  "language_info": {
   "codemirror_mode": {
    "name": "ipython",
    "version": 3
   },
   "file_extension": ".py",
   "mimetype": "text/x-python",
   "name": "python",
   "nbconvert_exporter": "python",
   "pygments_lexer": "ipython3",
   "version": "3.10.9"
  }
 },
 "nbformat": 4,
 "nbformat_minor": 5
}
